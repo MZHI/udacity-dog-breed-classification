{
 "cells": [
  {
   "cell_type": "markdown",
   "metadata": {},
   "source": [
    "## Write and train dog breed classificator from scratch\n",
    "\n",
    "---\n",
    "\n",
    "In this notebook, results of the experiments of training and improving the neural network from scratch is presented. In this part 25 first experiments are described and results are provided.\n",
    "\n",
    "The notebook is broken into separate steps. Feel free to use the links below to navigate the notebook.\n",
    "\n",
    "* [Models](#models)\n",
    "* [Experiment 1](#exp1): \n",
    "* [Experiment 2](#exp2): \n",
    "* [Experiment 3](#exp3): \n",
    "* [Experiment 4](#exp4): \n",
    "* [Experiment 5](#exp5): \n",
    "* [Experiment 6](#exp6): \n",
    "* [Experiment 7](#exp7): \n",
    "* [Experiment 8](#exp8): \n",
    "* [Experiment 9](#exp9): \n",
    "* [Experiment 10](#exp10): \n",
    "* [Experiment 11](#exp11): \n",
    "* [Experiment 12](#exp12): \n",
    "* [Experiment 13](#exp13): \n",
    "* [Experiment 14](#exp14): \n",
    "* [Experiment 15](#exp15): \n",
    "* [Experiment 16](#exp16): \n",
    "* [Experiment 17](#exp17): \n",
    "* [Experiment 18](#exp18): \n",
    "* [Experiment 19](#exp19): \n",
    "* [Experiment 20](#exp20): \n",
    "* [Experiment 21](#exp21): \n",
    "* [Experiment 22](#exp22): \n",
    "* [Experiment 23](#exp23): \n",
    "* [Experiment 24](#exp24): \n",
    "* [Experiment 25](#exp25): \n",
    "\n",
    "---"
   ]
  },
  {
   "cell_type": "markdown",
   "metadata": {},
   "source": [
    "<a id='models'></a>\n",
    "## Models\n",
    "\n",
    "### TODO\n",
    "\n",
    "* `Base`: AlexNet realization as in [original paper](https://papers.nips.cc/paper/4824-imagenet-classification-with-deep-convolutional-neural-networks.pdf), but without Local Response Normalization\n",
    "* `Base_1`: deeper AlexNet realization (more filters), without Local Response Normalization\n",
    "* `AlexNet`: PyTorch's realization of AlexNet\n",
    "* `vgg16`: PyTorch's realization of VGG16"
   ]
  },
  {
   "cell_type": "markdown",
   "metadata": {},
   "source": [
    "Fow all experiments, some parameters did'n chage:\n",
    "* for SGD momentum 0.9 was used\n",
    "* in Base and Base_1 for fully connected layers dropout=0.5 was used\n",
    "* a scheduler with following parameters in all experiments was used:\n",
    "  * scheduler patience = 3\n",
    "  * scheduler factor = 0.5\n",
    "  * scheduler cooldown = 2\n",
    "* if Color Jitter was used, the following parameters were used for it:\n",
    "  * brightness = 0.4\n",
    "  * contrast = 0.4\n",
    "  * saturation = 0.4\n",
    "  * hue = 0.2"
   ]
  },
  {
   "cell_type": "markdown",
   "metadata": {},
   "source": [
    "<a id='exp1'></a>\n",
    "## Experiment 1\n",
    "\n",
    "Details: \n",
    "* model: `Base`\n",
    "* batch size: 32\n",
    "* early stopping: 10\n",
    "* lr: 0.01\n",
    "* augmentation: no\n",
    "* optimizer: SGD\n",
    "\n",
    "Results:\n",
    "* best epoch: 40\n",
    "* test loss: 4.56\n",
    "* test accuracy: 3% (28/836)\n",
    "* train time (minutes): 28.1"
   ]
  },
  {
   "cell_type": "markdown",
   "metadata": {},
   "source": [
    "<a id='exp2'></a>\n",
    "## Experiment 2\n",
    "\n",
    "Parent experiment: [exp 1](#exp1)\n",
    "\n",
    "Differences from parent experiment: batch size: 32 -> 64\n",
    "\n",
    "Results:\n",
    "* best epoch: 35\n",
    "* test loss: 4.646664\n",
    "* test accuracy: 1% (15/836)\n",
    "* train time (minutes): 24.83"
   ]
  },
  {
   "cell_type": "markdown",
   "metadata": {},
   "source": [
    "<a id='exp3'></a>\n",
    "## Experiment 3\n",
    "\n",
    "Parent experiment: [exp 2](#exp2)\n",
    "\n",
    "Differences from parent experiment: batch size: 64 -> 128\n",
    "\n",
    "Results:\n",
    "* best epoch: 38\n",
    "* test loss: 4.660923\n",
    "* test accuracy: 2% (19/836)\n",
    "* train time (minutes): 15.72"
   ]
  },
  {
   "cell_type": "markdown",
   "metadata": {},
   "source": [
    "<a id='exp4'></a>\n",
    "## Experiment 4\n",
    "\n",
    "Parent experiment: [exp 3](#exp3)\n",
    "\n",
    "Differences from parent experiment: batch size: 128 -> 16\n",
    "\n",
    "Results:\n",
    "* best epoch: 18\n",
    "* test loss: 4.598885\n",
    "* test accuracy: 2% (18/836)\n",
    "* train time (minutes): 8.03"
   ]
  },
  {
   "cell_type": "markdown",
   "metadata": {},
   "source": [
    "<a id='exp5'></a>\n",
    "## Experiment 5\n",
    "\n",
    "Parent experiment: [exp 3](#exp3)\n",
    "\n",
    "Differences from parent experiment: batch size: 128 -> 16\n",
    "\n",
    "Results:\n",
    "* best epoch: 18\n",
    "* test loss: 4.598885\n",
    "* test accuracy: 2% (18/836)\n",
    "* train time (minutes): 8.03"
   ]
  },
  {
   "cell_type": "markdown",
   "metadata": {},
   "source": [
    "<a id='exp6'></a>\n",
    "## Experiment 6\n",
    "\n",
    "Description:\n",
    "\n",
    "Results:"
   ]
  },
  {
   "cell_type": "markdown",
   "metadata": {},
   "source": [
    "<a id='exp7'></a>\n",
    "## Experiment 7\n",
    "\n",
    "Description:\n",
    "\n",
    "Results:"
   ]
  },
  {
   "cell_type": "markdown",
   "metadata": {},
   "source": [
    "<a id='exp8'></a>\n",
    "## Experiment 8\n",
    "\n",
    "Description:\n",
    "\n",
    "Results:"
   ]
  },
  {
   "cell_type": "markdown",
   "metadata": {},
   "source": [
    "<a id='exp9'></a>\n",
    "## Experiment 9\n",
    "\n",
    "Description:\n",
    "\n",
    "Results:"
   ]
  },
  {
   "cell_type": "markdown",
   "metadata": {},
   "source": [
    "<a id='exp10'></a>\n",
    "## Experiment 10\n",
    "\n",
    "Description:\n",
    "\n",
    "Results:"
   ]
  },
  {
   "cell_type": "markdown",
   "metadata": {},
   "source": [
    "<a id='exp11'></a>\n",
    "## Experiment 11\n",
    "\n",
    "Description:\n",
    "\n",
    "Results:"
   ]
  },
  {
   "cell_type": "markdown",
   "metadata": {},
   "source": [
    "<a id='exp12'></a>\n",
    "## Experiment 12\n",
    "\n",
    "Description:\n",
    "\n",
    "Results:"
   ]
  },
  {
   "cell_type": "markdown",
   "metadata": {},
   "source": [
    "<a id='exp13'></a>\n",
    "## Experiment 13\n",
    "\n",
    "Description:\n",
    "\n",
    "Results:"
   ]
  },
  {
   "cell_type": "markdown",
   "metadata": {},
   "source": [
    "<a id='exp14'></a>\n",
    "## Experiment 14\n",
    "\n",
    "Description:\n",
    "\n",
    "Results:"
   ]
  },
  {
   "cell_type": "markdown",
   "metadata": {},
   "source": [
    "<a id='exp15'></a>\n",
    "## Experiment 15\n",
    "\n",
    "Description:\n",
    "\n",
    "Results:"
   ]
  },
  {
   "cell_type": "markdown",
   "metadata": {},
   "source": [
    "<a id='exp16'></a>\n",
    "## Experiment 16\n",
    "\n",
    "Description:\n",
    "\n",
    "Results:"
   ]
  },
  {
   "cell_type": "markdown",
   "metadata": {},
   "source": [
    "<a id='exp17'></a>\n",
    "## Experiment 17\n",
    "\n",
    "Description:\n",
    "\n",
    "Results:"
   ]
  },
  {
   "cell_type": "markdown",
   "metadata": {},
   "source": [
    "<a id='exp18'></a>\n",
    "## Experiment 18\n",
    "\n",
    "Description:\n",
    "\n",
    "Results:"
   ]
  },
  {
   "cell_type": "markdown",
   "metadata": {},
   "source": [
    "<a id='exp19'></a>\n",
    "## Experiment 19\n",
    "\n",
    "Description:\n",
    "\n",
    "Results:"
   ]
  },
  {
   "cell_type": "markdown",
   "metadata": {},
   "source": [
    "<a id='exp20'></a>\n",
    "## Experiment 20\n",
    "\n",
    "Description:\n",
    "\n",
    "Results:"
   ]
  },
  {
   "cell_type": "markdown",
   "metadata": {},
   "source": [
    "<a id='exp21'></a>\n",
    "## Experiment 21\n",
    "\n",
    "Description:\n",
    "\n",
    "Results:"
   ]
  },
  {
   "cell_type": "markdown",
   "metadata": {},
   "source": [
    "<a id='exp22'></a>\n",
    "## Experiment 22\n",
    "\n",
    "Description:\n",
    "\n",
    "Results:"
   ]
  },
  {
   "cell_type": "markdown",
   "metadata": {},
   "source": [
    "<a id='exp23'></a>\n",
    "## Experiment 23\n",
    "\n",
    "Description:\n",
    "\n",
    "Results:"
   ]
  },
  {
   "cell_type": "markdown",
   "metadata": {},
   "source": [
    "<a id='exp24'></a>\n",
    "## Experiment 24\n",
    "\n",
    "Description:\n",
    "\n",
    "Results:"
   ]
  },
  {
   "cell_type": "markdown",
   "metadata": {},
   "source": [
    "<a id='exp25'></a>\n",
    "## Experiment 25\n",
    "\n",
    "Description:\n",
    "\n",
    "Results:"
   ]
  }
 ],
 "metadata": {
  "anaconda-cloud": {},
  "kernelspec": {
   "display_name": "Python 3",
   "language": "python",
   "name": "python3"
  },
  "language_info": {
   "codemirror_mode": {
    "name": "ipython",
    "version": 3
   },
   "file_extension": ".py",
   "mimetype": "text/x-python",
   "name": "python",
   "nbconvert_exporter": "python",
   "pygments_lexer": "ipython3",
   "version": "3.7.0"
  }
 },
 "nbformat": 4,
 "nbformat_minor": 1
}
