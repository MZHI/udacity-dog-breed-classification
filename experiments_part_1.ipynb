{
 "cells": [
  {
   "cell_type": "markdown",
   "metadata": {},
   "source": [
    "## Write and train dog breed classificator from scratch\n",
    "\n",
    "---\n",
    "\n",
    "In this notebook, results of the experiments of training and improving the neural network from scratch is presented. In this part 25 first experiments are described and results are provided.\n",
    "\n",
    "The notebook is broken into separate steps. Feel free to use the links below to navigate the notebook.\n",
    "\n",
    "* [Models](#models)\n",
    "* [Experiment 1](#exp1): \n",
    "* [Experiment 2](#exp2): \n",
    "* [Experiment 3](#exp3): \n",
    "* [Experiment 4](#exp4): \n",
    "* [Experiment 5](#exp5): \n",
    "* [Experiment 6](#exp6): \n",
    "* [Experiment 7](#exp7): \n",
    "* [Experiment 8](#exp8): \n",
    "* [Experiment 9](#exp9): \n",
    "* [Experiment 10](#exp10): \n",
    "* [Experiment 11](#exp11): \n",
    "* [Experiment 12](#exp12): \n",
    "* [Experiment 13](#exp13): \n",
    "* [Experiment 14](#exp14): \n",
    "* [Experiment 15](#exp15): \n",
    "* [Experiment 16](#exp16): \n",
    "* [Experiment 17](#exp17): \n",
    "* [Experiment 18](#exp18): \n",
    "* [Experiment 19](#exp19): \n",
    "* [Experiment 20](#exp20): \n",
    "* [Experiment 21](#exp21): \n",
    "* [Experiment 22](#exp22): \n",
    "* [Experiment 23](#exp23): \n",
    "* [Experiment 24](#exp24): \n",
    "* [Experiment 25](#exp25): \n",
    "\n",
    "---"
   ]
  },
  {
   "cell_type": "markdown",
   "metadata": {},
   "source": [
    "<a id='models'></a>\n",
    "## Models\n",
    "\n",
    "### TODO\n",
    "\n",
    "* `Base`: AlexNet realization as in [original paper](https://papers.nips.cc/paper/4824-imagenet-classification-with-deep-convolutional-neural-networks.pdf), but without Local Response Normalization\n",
    "* `Base_1`: deeper AlexNet realization (more filters), without Local Response Normalization\n",
    "* `AlexNet`: PyTorch's realization of AlexNet\n",
    "* `vgg16`: PyTorch's realization of VGG16"
   ]
  },
  {
   "cell_type": "markdown",
   "metadata": {},
   "source": [
    "Fow all experiments, some parameters did'n chage:\n",
    "* for SGD momentum 0.9 was used\n",
    "* in Base and Base_1 for fully connected layers dropout=0.5 was used\n",
    "* a scheduler with following parameters in all experiments was used:\n",
    "  * scheduler patience = 3\n",
    "  * scheduler factor = 0.5\n",
    "  * scheduler cooldown = 2\n",
    "* if Color Jitter was used, the following parameters were used for it:\n",
    "  * brightness = 0.4\n",
    "  * contrast = 0.4\n",
    "  * saturation = 0.4\n",
    "  * hue = 0.2"
   ]
  },
  {
   "cell_type": "markdown",
   "metadata": {},
   "source": [
    "<a id='exp1'></a>\n",
    "## Experiment 1\n",
    "\n",
    "Details: \n",
    "* model: `Base`\n",
    "* batch size: 32\n",
    "* early stopping: 10\n",
    "* lr: 0.01\n",
    "* augmentation: no\n",
    "* optimizer: SGD\n",
    "\n",
    "Results:\n",
    "* best epoch: 40\n",
    "* test loss: 4.56\n",
    "* test accuracy: 3.35% (28/836)\n",
    "* train time (minutes): 28.1"
   ]
  },
  {
   "cell_type": "markdown",
   "metadata": {},
   "source": [
    "<a id='exp2'></a>\n",
    "## Experiment 2\n",
    "\n",
    "Parent experiment: [exp 1](#exp1)\n",
    "\n",
    "Differences from parent experiment: \n",
    "* batch size: 32 -> 64\n",
    "\n",
    "Results:\n",
    "* best epoch: 35\n",
    "* test loss: 4.646664\n",
    "* test accuracy: 1.79% (15/836)\n",
    "* train time (minutes): 24.83"
   ]
  },
  {
   "cell_type": "markdown",
   "metadata": {},
   "source": [
    "<a id='exp3'></a>\n",
    "## Experiment 3\n",
    "\n",
    "Parent experiment: [exp 1](#exp1)\n",
    "\n",
    "Differences from parent experiment: \n",
    "* batch size: 32 -> 128\n",
    "\n",
    "Results:\n",
    "* best epoch: 38\n",
    "* test loss: 4.660923\n",
    "* test accuracy: 2.27% (19/836)\n",
    "* train time (minutes): 15.72"
   ]
  },
  {
   "cell_type": "markdown",
   "metadata": {},
   "source": [
    "<a id='exp4'></a>\n",
    "## Experiment 4\n",
    "\n",
    "Parent experiment: [exp 1](#exp1)\n",
    "\n",
    "Differences from parent experiment: \n",
    "* batch size: 32 -> 16\n",
    "\n",
    "Results:\n",
    "* best epoch: 18\n",
    "* test loss: 4.598885\n",
    "* test accuracy: 2.15% (18/836)\n",
    "* train time (minutes): 8.03"
   ]
  },
  {
   "cell_type": "markdown",
   "metadata": {},
   "source": [
    "<a id='exp5'></a>\n",
    "## Experiment 5\n",
    "\n",
    "Parent experiment: [exp 1](#exp1)\n",
    "\n",
    "Differences from parent experiment: optimizer: SGD -> Adam\n",
    "\n",
    "Results:\n",
    "* best epoch: 7\n",
    "* test loss: 4.907243\n",
    "* test accuracy: 1.20% (10/836)\n",
    "* train time (minutes): 4.65"
   ]
  },
  {
   "cell_type": "markdown",
   "metadata": {},
   "source": [
    "<a id='exp6'></a>\n",
    "## Experiment 6\n",
    "\n",
    "Parent experiment: [exp 1](#exp1)\n",
    "\n",
    "Differences from parent experiment: \n",
    "* optimizer: SGD -> Adam\n",
    "* lr: 0.01 -> 0.00001\n",
    "\n",
    "Results:\n",
    "* best epoch: 61\n",
    "* test loss: 4.586305\n",
    "* test accuracy: 3.71% (31/836)\n",
    "* train time (minutes): 41.85"
   ]
  },
  {
   "cell_type": "markdown",
   "metadata": {},
   "source": [
    "<a id='exp7'></a>\n",
    "## Experiment 7\n",
    "\n",
    "Parent experiment: [exp 1](#exp1)\n",
    "\n",
    "Differences from parent experiment: \n",
    "* optimizer: SGD -> Adam\n",
    "* lr: 0.01 -> 0.00001\n",
    "* batch size: 32 -> 256\n",
    "\n",
    "Results:\n",
    "* best epoch: 65\n",
    "* test loss: 4.668120\n",
    "* test accuracy: 3.35% (28/836)\n",
    "* train time (minutes): 28.38"
   ]
  },
  {
   "cell_type": "markdown",
   "metadata": {},
   "source": [
    "<a id='exp8'></a>\n",
    "## Experiment 8\n",
    "\n",
    "Parent experiment: [exp 1](#exp1)\n",
    "\n",
    "Differences from parent experiment: \n",
    "* optimizer: SGD -> Adam\n",
    "* batch size: 32 -> 256\n",
    "* lr: 0.00001 -> 0.001\n",
    "\n",
    "Results:\n",
    "* best epoch: 57\n",
    "* test loss: 4.890260\n",
    "* test accuracy: 0.72% (6/836)\n",
    "* train time (minutes): 24.61"
   ]
  },
  {
   "cell_type": "markdown",
   "metadata": {},
   "source": [
    "<a id='exp9'></a>\n",
    "## Experiment 9\n",
    "\n",
    "Parent experiment: [exp 1](#exp1)\n",
    "\n",
    "Differences from parent experiment: \n",
    "* batch size: 32 -> 256\n",
    "* lr: 0.01 -> 0.1\n",
    "\n",
    "Results:\n",
    "* best epoch: 65\n",
    "* test loss: 4.598946\n",
    "* test accuracy: 3.11% (26/836)\n",
    "* train time (minutes): 27.72"
   ]
  },
  {
   "cell_type": "markdown",
   "metadata": {},
   "source": [
    "<a id='exp10'></a>\n",
    "## Experiment 10\n",
    "\n",
    "Parent experiment: [exp 1](#exp1)\n",
    "\n",
    "Differences from parent experiment: \n",
    "* use mean and std for current train dataset\n",
    "\n",
    "Results:\n",
    "* best epoch: 41\n",
    "* test loss: 4.554648\n",
    "* test accuracy: 3.83% (32/836)\n",
    "* train time (minutes): 27.55"
   ]
  },
  {
   "cell_type": "markdown",
   "metadata": {},
   "source": [
    "<a id='exp11'></a>\n",
    "## Experiment 11\n",
    "\n",
    "Parent experiment: [exp 1](#exp1)\n",
    "\n",
    "Differences from parent experiment: \n",
    "* use mean and std for current train dataset\n",
    "* add weight decay 0.0005\n",
    "\n",
    "Results:\n",
    "* best epoch: 49\n",
    "* test loss: 4.550658\n",
    "* test accuracy: 4.31% (36/836)\n",
    "* train time (minutes): 18.43"
   ]
  },
  {
   "cell_type": "markdown",
   "metadata": {},
   "source": [
    "<a id='exp12'></a>\n",
    "## Experiment 12\n",
    "\n",
    "Parent experiment: [exp 1](#exp1)\n",
    "\n",
    "Differences from parent experiment: \n",
    "* use mean and std for current train dataset\n",
    "* add weight decay 0.0005\n",
    "* add augmentaion: RandomHorizontalFlip and RandomResizedCrop\n",
    "\n",
    "Results:\n",
    "* best epoch: 98\n",
    "* test loss: 4.404118\n",
    "* test accuracy: 6.34% (53/836)\n",
    "* train time (minutes): 35.08"
   ]
  },
  {
   "cell_type": "markdown",
   "metadata": {},
   "source": [
    "<a id='exp13'></a>\n",
    "## Experiment 13\n",
    "\n",
    "Parent experiment: [exp 1](#exp1)\n",
    "\n",
    "Differences from parent experiment: \n",
    "* use mean and std for current train dataset\n",
    "* add weight decay 0.0005\n",
    "* add augmentaion: RandomHorizontalFlip and RandomResizedCrop\n",
    "* model: Base -> AlexNet\n",
    "\n",
    "Results:\n",
    "* best epoch: 85\n",
    "* test loss: 1.574913\n",
    "* test accuracy: 62.44% (522/836)\n",
    "* train time (minutes): 39.45"
   ]
  },
  {
   "cell_type": "markdown",
   "metadata": {},
   "source": [
    "<a id='exp14'></a>\n",
    "## Experiment 14\n",
    "\n",
    "Parent experiment: [exp 1](#exp1)\n",
    "\n",
    "Differences from parent experiment: \n",
    "* use mean and std for current train dataset\n",
    "* add weight decay 0.0005\n",
    "* model: Base -> AlexNet\n",
    "\n",
    "Results:\n",
    "* best epoch: 17\n",
    "* test loss: 3.64\n",
    "* test accuracy: 13.88% (116/836)\n",
    "* train time (minutes): 9.15"
   ]
  },
  {
   "cell_type": "markdown",
   "metadata": {},
   "source": [
    "<a id='exp15'></a>\n",
    "## Experiment 15\n",
    "\n",
    "Parent experiment: [exp 1](#exp1)\n",
    "\n",
    "Differences from parent experiment: \n",
    "* use mean and std for current train dataset\n",
    "* add weight decay 0.0005\n",
    "* add augmentaion: RandomHorizontalFlip and RandomResizedCrop\n",
    "* add augmentation: Color Jitter\n",
    "* model: Base -> AlexNet\n",
    "\n",
    "Results:\n",
    "* best epoch: 17\n",
    "* test loss: 3.64\n",
    "* test accuracy: 13.88% (116/836)\n",
    "* train time (minutes): 9.15"
   ]
  },
  {
   "cell_type": "markdown",
   "metadata": {},
   "source": [
    "<a id='exp16'></a>\n",
    "## Experiment 16\n",
    "\n",
    "Parent experiment: [exp 1](#exp1)\n",
    "\n",
    "Differences from parent experiment: \n",
    "* use mean and std for current train dataset\n",
    "* add weight decay 0.0005\n",
    "* add augmentaion: RandomHorizontalFlip and RandomResizedCrop\n",
    "* add augmentation: Color Jitter\n",
    "\n",
    "Results:\n",
    "* best epoch: 144\n",
    "* test loss: 4.382009\n",
    "* test accuracy: 7.89% (66/836)\n",
    "* train time (minutes): 51.76"
   ]
  },
  {
   "cell_type": "markdown",
   "metadata": {},
   "source": [
    "<a id='exp17'></a>\n",
    "## Experiment 17\n",
    "\n",
    "Parent experiment: [exp 1](#exp1)\n",
    "\n",
    "Differences from parent experiment: \n",
    "* add weight decay 0.0005\n",
    "* add augmentaion: RandomHorizontalFlip and RandomResizedCrop\n",
    "* add augmentation: Color Jitter\n",
    "* model: Base -> AlexNet \n",
    "* use pretrained weights, unfreeze last FC layer\n",
    "\n",
    "\n",
    "Results:\n",
    "* best epoch: 42\n",
    "* test loss: 1.062519\n",
    "* test accuracy: 74.88% (626/836)\n",
    "* train time (minutes): 17.32"
   ]
  },
  {
   "cell_type": "markdown",
   "metadata": {},
   "source": [
    "<a id='exp18'></a>\n",
    "## Experiment 18\n",
    "\n",
    "equal to [exp 17](#exp17)\n"
   ]
  },
  {
   "cell_type": "markdown",
   "metadata": {},
   "source": [
    "<a id='exp19'></a>\n",
    "## Experiment 19\n",
    "\n",
    "Parent experiment: [exp 1](#exp1)\n",
    "\n",
    "Differences from parent experiment: \n",
    "* add weight decay 0.0005\n",
    "* add augmentaion: RandomHorizontalFlip and RandomResizedCrop\n",
    "* add augmentation: Color Jitter\n",
    "* model: Base -> AlexNet \n",
    "* use pretrained weights, unfreeze last 2 FC layers\n",
    "\n",
    "\n",
    "Results:\n",
    "* best epoch: 53\n",
    "* test loss: 1.061143\n",
    "* test accuracy: 72.13% (603/836)\n",
    "* train time (minutes): 22.88"
   ]
  },
  {
   "cell_type": "markdown",
   "metadata": {},
   "source": [
    "<a id='exp20'></a>\n",
    "## Experiment 20\n",
    "\n",
    "Parent experiment: [exp 1](#exp1)\n",
    "\n",
    "Differences from parent experiment: \n",
    "* add weight decay 0.0005\n",
    "* add augmentaion: RandomHorizontalFlip and RandomResizedCrop\n",
    "* add augmentation: Color Jitter\n",
    "* model: Base -> AlexNet \n",
    "* use pretrained weights, unfreeze last 3 FC layers\n",
    "\n",
    "\n",
    "Results:\n",
    "* best epoch: 42\n",
    "* test loss: 1.062519\n",
    "* test accuracy: 74.88% (626/836)\n",
    "* train time (minutes): 18.58"
   ]
  },
  {
   "cell_type": "markdown",
   "metadata": {},
   "source": [
    "<a id='exp21'></a>\n",
    "## Experiment 21\n",
    "\n",
    "Description:\n",
    "\n",
    "Results:"
   ]
  },
  {
   "cell_type": "markdown",
   "metadata": {},
   "source": [
    "<a id='exp22'></a>\n",
    "## Experiment 22\n",
    "\n",
    "Description:\n",
    "\n",
    "Results:"
   ]
  },
  {
   "cell_type": "markdown",
   "metadata": {},
   "source": [
    "<a id='exp23'></a>\n",
    "## Experiment 23\n",
    "\n",
    "Description:\n",
    "\n",
    "Results:"
   ]
  },
  {
   "cell_type": "markdown",
   "metadata": {},
   "source": [
    "<a id='exp24'></a>\n",
    "## Experiment 24\n",
    "\n",
    "Description:\n",
    "\n",
    "Results:"
   ]
  },
  {
   "cell_type": "markdown",
   "metadata": {},
   "source": [
    "<a id='exp25'></a>\n",
    "## Experiment 25\n",
    "\n",
    "Description:\n",
    "\n",
    "Results:"
   ]
  }
 ],
 "metadata": {
  "anaconda-cloud": {},
  "kernelspec": {
   "display_name": "Python 3",
   "language": "python",
   "name": "python3"
  },
  "language_info": {
   "codemirror_mode": {
    "name": "ipython",
    "version": 3
   },
   "file_extension": ".py",
   "mimetype": "text/x-python",
   "name": "python",
   "nbconvert_exporter": "python",
   "pygments_lexer": "ipython3",
   "version": "3.7.0"
  }
 },
 "nbformat": 4,
 "nbformat_minor": 1
}
