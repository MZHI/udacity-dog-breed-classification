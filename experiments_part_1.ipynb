{
 "cells": [
  {
   "cell_type": "markdown",
   "metadata": {},
   "source": [
    "## Write and train dog breed classificator from scratch\n",
    "\n",
    "---\n",
    "\n",
    "In this notebook, results of the experiments of training and improving the neural network from scratch is presented. In this part 25 first experiments are described and results are provided.\n",
    "\n",
    "In these 25 experinments two custom implementations of AlexNet were used, and two PyTorch's implementations were uses. Go to [models description](#models) for details.\n",
    "\n",
    "Use the links below to navigate between experiments description:\n",
    "\n",
    "* [Experiment 1](#exp1): model `Base`\n",
    "* [Experiment 2](#exp2): model `Base` \n",
    "* [Experiment 3](#exp3): model `Base` \n",
    "* [Experiment 4](#exp4): model `Base` \n",
    "* [Experiment 5](#exp5): model `Base` \n",
    "* [Experiment 6](#exp6): model `Base` \n",
    "* [Experiment 7](#exp7): model `Base` \n",
    "* [Experiment 8](#exp8): model `Base` \n",
    "* [Experiment 9](#exp9): model `Base` \n",
    "* [Experiment 10](#exp10): model `Base` \n",
    "* [Experiment 11](#exp11): model `Base` \n",
    "* [Experiment 12](#exp12): model `Base` \n",
    "* [Experiment 13](#exp13): model `AlexNet` (from scratch)\n",
    "* [Experiment 14](#exp14): model `AlexNet` (from scratch)\n",
    "* [Experiment 15](#exp15): model `AlexNet` (from scratch), best result for this model from scratch\n",
    "* [Experiment 16](#exp16): model `Base`, best result for this model\n",
    "* [Experiment 17](#exp17): model `AlexNet` (transfer learning), best result for this model transfer learning\n",
    "* [Experiment 18](#exp18): equal to experiment 17\n",
    "* [Experiment 19](#exp19): model `AlexNet` (transfer learning)\n",
    "* [Experiment 20](#exp20): model `AlexNet` (transfer learning), best result for this model transfer learning\n",
    "* [Experiment 21](#exp21): model `vgg16` (from scratch), best result among all 25 experiments\n",
    "* [Experiment 22](#exp22): model `vgg16` (transfer learning), fail to train\n",
    "* [Experiment 23](#exp23): model `vgg16` (transfer learning), fail to train\n",
    "* [Experiment 24](#exp24): model `vgg16` (transfer learning), fail to train\n",
    "* [Experiment 25](#exp25): model `Base_1` (from scratch), best result for this model from scratch, but worse than model `Base`\n",
    "\n",
    "---"
   ]
  },
  {
   "cell_type": "markdown",
   "metadata": {},
   "source": [
    "<a id='models'></a>\n",
    "## Models\n",
    "\n",
    "\n",
    "1. `Base`: custom AlexNet realization as in [original paper](https://papers.nips.cc/paper/4824-imagenet-classification-with-deep-convolutional-neural-networks.pdf), but without Local Response Normalization.\n",
    "\n",
    "Model architecture:"
   ]
  },
  {
   "cell_type": "code",
   "execution_count": 23,
   "metadata": {},
   "outputs": [
    {
     "name": "stdout",
     "output_type": "stream",
     "text": [
      "BasicCNN(\n",
      "  (conv1): Conv2d(3, 48, kernel_size=(11, 11), stride=(4, 4), padding=(2, 2))\n",
      "  (conv2): Conv2d(48, 128, kernel_size=(5, 5), stride=(1, 1), padding=(2, 2))\n",
      "  (conv3): Conv2d(128, 192, kernel_size=(3, 3), stride=(1, 1), padding=(1, 1))\n",
      "  (conv4): Conv2d(192, 192, kernel_size=(3, 3), stride=(1, 1), padding=(1, 1))\n",
      "  (conv5): Conv2d(192, 128, kernel_size=(3, 3), stride=(1, 1), padding=(1, 1))\n",
      "  (pool): MaxPool2d(kernel_size=2, stride=2, padding=0, dilation=1, ceil_mode=False)\n",
      "  (fc1): Linear(in_features=4608, out_features=2048, bias=True)\n",
      "  (fc2): Linear(in_features=2048, out_features=2048, bias=True)\n",
      "  (fc3): Linear(in_features=2048, out_features=133, bias=True)\n",
      "  (dropout): Dropout(p=0.5, inplace=False)\n",
      ")\n"
     ]
    }
   ],
   "source": [
    "from models.model_utils import init_model\n",
    "model_base = init_model(\"Base\", 133, pretrained=False)\n",
    "print(model_base)"
   ]
  },
  {
   "cell_type": "markdown",
   "metadata": {},
   "source": [
    "2. `Base_1`: custom AlexNet realization, but more deeper convolution layers (more filters).\n",
    "\n",
    "Model architecture:"
   ]
  },
  {
   "cell_type": "code",
   "execution_count": 24,
   "metadata": {},
   "outputs": [
    {
     "name": "stdout",
     "output_type": "stream",
     "text": [
      "BasicCNN_v1(\n",
      "  (conv1): Conv2d(3, 64, kernel_size=(11, 11), stride=(4, 4), padding=(2, 2))\n",
      "  (conv2): Conv2d(64, 156, kernel_size=(5, 5), stride=(1, 1), padding=(2, 2))\n",
      "  (conv3): Conv2d(156, 256, kernel_size=(3, 3), stride=(1, 1), padding=(1, 1))\n",
      "  (conv4): Conv2d(256, 256, kernel_size=(3, 3), stride=(1, 1), padding=(1, 1))\n",
      "  (conv5): Conv2d(256, 192, kernel_size=(3, 3), stride=(1, 1), padding=(1, 1))\n",
      "  (pool): MaxPool2d(kernel_size=3, stride=2, padding=0, dilation=1, ceil_mode=False)\n",
      "  (fc1): Linear(in_features=6912, out_features=4096, bias=True)\n",
      "  (fc2): Linear(in_features=4096, out_features=2048, bias=True)\n",
      "  (fc3): Linear(in_features=2048, out_features=133, bias=True)\n",
      "  (dropout): Dropout(p=0.5, inplace=False)\n",
      ")\n"
     ]
    }
   ],
   "source": [
    "model_base_1 = init_model(\"Base_1\", 133, pretrained=False)\n",
    "print(model_base_1)"
   ]
  },
  {
   "cell_type": "markdown",
   "metadata": {},
   "source": [
    "3. `AlexNet`: model from torchvision library\n",
    "\n",
    "Model architecture:"
   ]
  },
  {
   "cell_type": "code",
   "execution_count": 25,
   "metadata": {},
   "outputs": [
    {
     "name": "stdout",
     "output_type": "stream",
     "text": [
      "AlexNet(\n",
      "  (features): Sequential(\n",
      "    (0): Conv2d(3, 64, kernel_size=(11, 11), stride=(4, 4), padding=(2, 2))\n",
      "    (1): ReLU(inplace=True)\n",
      "    (2): MaxPool2d(kernel_size=3, stride=2, padding=0, dilation=1, ceil_mode=False)\n",
      "    (3): Conv2d(64, 192, kernel_size=(5, 5), stride=(1, 1), padding=(2, 2))\n",
      "    (4): ReLU(inplace=True)\n",
      "    (5): MaxPool2d(kernel_size=3, stride=2, padding=0, dilation=1, ceil_mode=False)\n",
      "    (6): Conv2d(192, 384, kernel_size=(3, 3), stride=(1, 1), padding=(1, 1))\n",
      "    (7): ReLU(inplace=True)\n",
      "    (8): Conv2d(384, 256, kernel_size=(3, 3), stride=(1, 1), padding=(1, 1))\n",
      "    (9): ReLU(inplace=True)\n",
      "    (10): Conv2d(256, 256, kernel_size=(3, 3), stride=(1, 1), padding=(1, 1))\n",
      "    (11): ReLU(inplace=True)\n",
      "    (12): MaxPool2d(kernel_size=3, stride=2, padding=0, dilation=1, ceil_mode=False)\n",
      "  )\n",
      "  (avgpool): AdaptiveAvgPool2d(output_size=(6, 6))\n",
      "  (classifier): Sequential(\n",
      "    (0): Dropout(p=0.5, inplace=False)\n",
      "    (1): Linear(in_features=9216, out_features=4096, bias=True)\n",
      "    (2): ReLU(inplace=True)\n",
      "    (3): Dropout(p=0.5, inplace=False)\n",
      "    (4): Linear(in_features=4096, out_features=4096, bias=True)\n",
      "    (5): ReLU(inplace=True)\n",
      "    (6): Linear(in_features=4096, out_features=1000, bias=True)\n",
      "  )\n",
      ")\n"
     ]
    }
   ],
   "source": [
    "import torchvision.models as torch_models\n",
    "model_alexnet = torch_models.alexnet()\n",
    "print(model_alexnet)"
   ]
  },
  {
   "cell_type": "markdown",
   "metadata": {},
   "source": [
    "4. `vgg16`: model VGG16 from torchvision library\n",
    "\n",
    "Model architecture:"
   ]
  },
  {
   "cell_type": "code",
   "execution_count": 26,
   "metadata": {},
   "outputs": [
    {
     "name": "stdout",
     "output_type": "stream",
     "text": [
      "VGG(\n",
      "  (features): Sequential(\n",
      "    (0): Conv2d(3, 64, kernel_size=(3, 3), stride=(1, 1), padding=(1, 1))\n",
      "    (1): ReLU(inplace=True)\n",
      "    (2): Conv2d(64, 64, kernel_size=(3, 3), stride=(1, 1), padding=(1, 1))\n",
      "    (3): ReLU(inplace=True)\n",
      "    (4): MaxPool2d(kernel_size=2, stride=2, padding=0, dilation=1, ceil_mode=False)\n",
      "    (5): Conv2d(64, 128, kernel_size=(3, 3), stride=(1, 1), padding=(1, 1))\n",
      "    (6): ReLU(inplace=True)\n",
      "    (7): Conv2d(128, 128, kernel_size=(3, 3), stride=(1, 1), padding=(1, 1))\n",
      "    (8): ReLU(inplace=True)\n",
      "    (9): MaxPool2d(kernel_size=2, stride=2, padding=0, dilation=1, ceil_mode=False)\n",
      "    (10): Conv2d(128, 256, kernel_size=(3, 3), stride=(1, 1), padding=(1, 1))\n",
      "    (11): ReLU(inplace=True)\n",
      "    (12): Conv2d(256, 256, kernel_size=(3, 3), stride=(1, 1), padding=(1, 1))\n",
      "    (13): ReLU(inplace=True)\n",
      "    (14): Conv2d(256, 256, kernel_size=(3, 3), stride=(1, 1), padding=(1, 1))\n",
      "    (15): ReLU(inplace=True)\n",
      "    (16): MaxPool2d(kernel_size=2, stride=2, padding=0, dilation=1, ceil_mode=False)\n",
      "    (17): Conv2d(256, 512, kernel_size=(3, 3), stride=(1, 1), padding=(1, 1))\n",
      "    (18): ReLU(inplace=True)\n",
      "    (19): Conv2d(512, 512, kernel_size=(3, 3), stride=(1, 1), padding=(1, 1))\n",
      "    (20): ReLU(inplace=True)\n",
      "    (21): Conv2d(512, 512, kernel_size=(3, 3), stride=(1, 1), padding=(1, 1))\n",
      "    (22): ReLU(inplace=True)\n",
      "    (23): MaxPool2d(kernel_size=2, stride=2, padding=0, dilation=1, ceil_mode=False)\n",
      "    (24): Conv2d(512, 512, kernel_size=(3, 3), stride=(1, 1), padding=(1, 1))\n",
      "    (25): ReLU(inplace=True)\n",
      "    (26): Conv2d(512, 512, kernel_size=(3, 3), stride=(1, 1), padding=(1, 1))\n",
      "    (27): ReLU(inplace=True)\n",
      "    (28): Conv2d(512, 512, kernel_size=(3, 3), stride=(1, 1), padding=(1, 1))\n",
      "    (29): ReLU(inplace=True)\n",
      "    (30): MaxPool2d(kernel_size=2, stride=2, padding=0, dilation=1, ceil_mode=False)\n",
      "  )\n",
      "  (avgpool): AdaptiveAvgPool2d(output_size=(7, 7))\n",
      "  (classifier): Sequential(\n",
      "    (0): Linear(in_features=25088, out_features=4096, bias=True)\n",
      "    (1): ReLU(inplace=True)\n",
      "    (2): Dropout(p=0.5, inplace=False)\n",
      "    (3): Linear(in_features=4096, out_features=4096, bias=True)\n",
      "    (4): ReLU(inplace=True)\n",
      "    (5): Dropout(p=0.5, inplace=False)\n",
      "    (6): Linear(in_features=4096, out_features=1000, bias=True)\n",
      "  )\n",
      ")\n"
     ]
    }
   ],
   "source": [
    "import torchvision.models as torch_models\n",
    "model_vgg16 = torch_models.vgg16()\n",
    "print(model_vgg16)"
   ]
  },
  {
   "cell_type": "markdown",
   "metadata": {},
   "source": [
    "# Experiments description\n",
    "\n",
    "Fow all experiments, some parameters did'n change:\n",
    "* for SGD momentum value 0.9 was used\n",
    "* in Base and Base_1 for fully connected layers dropout=0.5 was used\n",
    "* a scheduler with following parameters in all experiments was used:\n",
    "  * scheduler patience = 3\n",
    "  * scheduler factor = 0.5\n",
    "  * scheduler cooldown = 2\n",
    "* if Color Jitter was used, the following parameters were used for it:\n",
    "  * brightness = 0.4\n",
    "  * contrast = 0.4\n",
    "  * saturation = 0.4\n",
    "  * hue = 0.2"
   ]
  },
  {
   "cell_type": "markdown",
   "metadata": {},
   "source": [
    "<a id='exp1'></a>\n",
    "## Experiment 1\n",
    "\n",
    "Details: \n",
    "* model: `Base`\n",
    "* batch size: 32\n",
    "* early stopping: 10\n",
    "* lr: 0.01\n",
    "* augmentation: no\n",
    "* optimizer: SGD\n",
    "\n",
    "Results:\n",
    "* best epoch: 40\n",
    "* test loss: 4.56\n",
    "* test accuracy: 3.35% (28/836)\n",
    "* train time (minutes): 28.1"
   ]
  },
  {
   "cell_type": "markdown",
   "metadata": {},
   "source": [
    "<a id='exp2'></a>\n",
    "## Experiment 2\n",
    "\n",
    "Parent experiment: [exp 1](#exp1)\n",
    "\n",
    "Differences from parent experiment: \n",
    "* batch size: 32 -> 64\n",
    "\n",
    "Results:\n",
    "* best epoch: 35\n",
    "* test loss: 4.646664\n",
    "* test accuracy: 1.79% (15/836)\n",
    "* train time (minutes): 24.83"
   ]
  },
  {
   "cell_type": "markdown",
   "metadata": {},
   "source": [
    "<a id='exp3'></a>\n",
    "## Experiment 3\n",
    "\n",
    "Parent experiment: [exp 1](#exp1)\n",
    "\n",
    "Differences from parent experiment: \n",
    "* batch size: 32 -> 128\n",
    "\n",
    "Results:\n",
    "* best epoch: 38\n",
    "* test loss: 4.660923\n",
    "* test accuracy: 2.27% (19/836)\n",
    "* train time (minutes): 15.72"
   ]
  },
  {
   "cell_type": "markdown",
   "metadata": {},
   "source": [
    "<a id='exp4'></a>\n",
    "## Experiment 4\n",
    "\n",
    "Parent experiment: [exp 1](#exp1)\n",
    "\n",
    "Differences from parent experiment: \n",
    "* batch size: 32 -> 16\n",
    "\n",
    "Results:\n",
    "* best epoch: 18\n",
    "* test loss: 4.598885\n",
    "* test accuracy: 2.15% (18/836)\n",
    "* train time (minutes): 8.03"
   ]
  },
  {
   "cell_type": "markdown",
   "metadata": {},
   "source": [
    "<a id='exp5'></a>\n",
    "## Experiment 5\n",
    "\n",
    "Parent experiment: [exp 1](#exp1)\n",
    "\n",
    "Differences from parent experiment: optimizer: SGD -> Adam\n",
    "\n",
    "Results:\n",
    "* best epoch: 7\n",
    "* test loss: 4.907243\n",
    "* test accuracy: 1.20% (10/836)\n",
    "* train time (minutes): 4.65"
   ]
  },
  {
   "cell_type": "markdown",
   "metadata": {},
   "source": [
    "<a id='exp6'></a>\n",
    "## Experiment 6\n",
    "\n",
    "Parent experiment: [exp 1](#exp1)\n",
    "\n",
    "Differences from parent experiment: \n",
    "* optimizer: SGD -> Adam\n",
    "* lr: 0.01 -> 0.00001\n",
    "\n",
    "Results:\n",
    "* best epoch: 61\n",
    "* test loss: 4.586305\n",
    "* test accuracy: 3.71% (31/836)\n",
    "* train time (minutes): 41.85"
   ]
  },
  {
   "cell_type": "markdown",
   "metadata": {},
   "source": [
    "<a id='exp7'></a>\n",
    "## Experiment 7\n",
    "\n",
    "Parent experiment: [exp 1](#exp1)\n",
    "\n",
    "Differences from parent experiment: \n",
    "* optimizer: SGD -> Adam\n",
    "* lr: 0.01 -> 0.00001\n",
    "* batch size: 32 -> 256\n",
    "\n",
    "Results:\n",
    "* best epoch: 65\n",
    "* test loss: 4.668120\n",
    "* test accuracy: 3.35% (28/836)\n",
    "* train time (minutes): 28.38"
   ]
  },
  {
   "cell_type": "markdown",
   "metadata": {},
   "source": [
    "<a id='exp8'></a>\n",
    "## Experiment 8\n",
    "\n",
    "Parent experiment: [exp 1](#exp1)\n",
    "\n",
    "Differences from parent experiment: \n",
    "* optimizer: SGD -> Adam\n",
    "* batch size: 32 -> 256\n",
    "* lr: 0.00001 -> 0.001\n",
    "\n",
    "Results:\n",
    "* best epoch: 57\n",
    "* test loss: 4.890260\n",
    "* test accuracy: 0.72% (6/836)\n",
    "* train time (minutes): 24.61"
   ]
  },
  {
   "cell_type": "markdown",
   "metadata": {},
   "source": [
    "<a id='exp9'></a>\n",
    "## Experiment 9\n",
    "\n",
    "Parent experiment: [exp 1](#exp1)\n",
    "\n",
    "Differences from parent experiment: \n",
    "* batch size: 32 -> 256\n",
    "* lr: 0.01 -> 0.1\n",
    "\n",
    "Results:\n",
    "* best epoch: 65\n",
    "* test loss: 4.598946\n",
    "* test accuracy: 3.11% (26/836)\n",
    "* train time (minutes): 27.72"
   ]
  },
  {
   "cell_type": "markdown",
   "metadata": {},
   "source": [
    "<a id='exp10'></a>\n",
    "## Experiment 10\n",
    "\n",
    "Parent experiment: [exp 1](#exp1)\n",
    "\n",
    "Differences from parent experiment: \n",
    "* use mean and std for current train dataset\n",
    "\n",
    "Results:\n",
    "* best epoch: 41\n",
    "* test loss: 4.554648\n",
    "* test accuracy: 3.83% (32/836)\n",
    "* train time (minutes): 27.55"
   ]
  },
  {
   "cell_type": "markdown",
   "metadata": {},
   "source": [
    "<a id='exp11'></a>\n",
    "## Experiment 11\n",
    "\n",
    "Parent experiment: [exp 1](#exp1)\n",
    "\n",
    "Differences from parent experiment: \n",
    "* use mean and std for current train dataset\n",
    "* add weight decay 0.0005\n",
    "\n",
    "Results:\n",
    "* best epoch: 49\n",
    "* test loss: 4.550658\n",
    "* test accuracy: 4.31% (36/836)\n",
    "* train time (minutes): 18.43"
   ]
  },
  {
   "cell_type": "markdown",
   "metadata": {},
   "source": [
    "<a id='exp12'></a>\n",
    "## Experiment 12\n",
    "\n",
    "Parent experiment: [exp 1](#exp1)\n",
    "\n",
    "Differences from parent experiment: \n",
    "* use mean and std for current train dataset\n",
    "* add weight decay 0.0005\n",
    "* add augmentaion: RandomHorizontalFlip and RandomResizedCrop\n",
    "\n",
    "Results:\n",
    "* best epoch: 98\n",
    "* test loss: 4.404118\n",
    "* test accuracy: 6.34% (53/836)\n",
    "* train time (minutes): 35.08"
   ]
  },
  {
   "cell_type": "markdown",
   "metadata": {},
   "source": [
    "<a id='exp13'></a>\n",
    "## Experiment 13\n",
    "\n",
    "Parent experiment: [exp 1](#exp1)\n",
    "\n",
    "Differences from parent experiment: \n",
    "* use mean and std for current train dataset\n",
    "* add weight decay 0.0005\n",
    "* add augmentaion: RandomHorizontalFlip and RandomResizedCrop\n",
    "* model: Base -> AlexNet\n",
    "\n",
    "Results:\n",
    "* best epoch: 85\n",
    "* test loss: 1.574913\n",
    "* test accuracy: 62.44% (522/836)\n",
    "* train time (minutes): 39.45"
   ]
  },
  {
   "cell_type": "markdown",
   "metadata": {},
   "source": [
    "<a id='exp14'></a>\n",
    "## Experiment 14\n",
    "\n",
    "Parent experiment: [exp 1](#exp1)\n",
    "\n",
    "Differences from parent experiment: \n",
    "* use mean and std for current train dataset\n",
    "* add weight decay 0.0005\n",
    "* model: Base -> AlexNet\n",
    "\n",
    "Results:\n",
    "* best epoch: 17\n",
    "* test loss: 3.64\n",
    "* test accuracy: 13.88% (116/836)\n",
    "* train time (minutes): 9.15"
   ]
  },
  {
   "cell_type": "markdown",
   "metadata": {},
   "source": [
    "<a id='exp15'></a>\n",
    "## Experiment 15\n",
    "\n",
    "Parent experiment: [exp 1](#exp1)\n",
    "\n",
    "Differences from parent experiment: \n",
    "* use mean and std for current train dataset\n",
    "* add weight decay 0.0005\n",
    "* add augmentaion: RandomHorizontalFlip and RandomResizedCrop\n",
    "* add augmentation: Color Jitter\n",
    "* model: Base -> AlexNet\n",
    "\n",
    "Results:\n",
    "* best epoch: 17\n",
    "* test loss: 3.64\n",
    "* test accuracy: 13.88% (116/836)\n",
    "* train time (minutes): 9.15"
   ]
  },
  {
   "cell_type": "markdown",
   "metadata": {},
   "source": [
    "<a id='exp16'></a>\n",
    "## Experiment 16\n",
    "\n",
    "Parent experiment: [exp 1](#exp1)\n",
    "\n",
    "Differences from parent experiment: \n",
    "* use mean and std for current train dataset\n",
    "* add weight decay 0.0005\n",
    "* add augmentaion: RandomHorizontalFlip and RandomResizedCrop\n",
    "* add augmentation: Color Jitter\n",
    "\n",
    "Results:\n",
    "* best epoch: 144\n",
    "* test loss: 4.382009\n",
    "* test accuracy: 7.89% (66/836)\n",
    "* train time (minutes): 51.76"
   ]
  },
  {
   "cell_type": "markdown",
   "metadata": {},
   "source": [
    "<a id='exp17'></a>\n",
    "## Experiment 17\n",
    "\n",
    "Parent experiment: [exp 1](#exp1)\n",
    "\n",
    "Differences from parent experiment: \n",
    "* add weight decay 0.0005\n",
    "* add augmentaion: RandomHorizontalFlip and RandomResizedCrop\n",
    "* add augmentation: Color Jitter\n",
    "* model: Base -> AlexNet \n",
    "* use pretrained weights, unfreeze last FC layer\n",
    "\n",
    "\n",
    "Results:\n",
    "* best epoch: 42\n",
    "* test loss: 1.062519\n",
    "* test accuracy: 74.88% (626/836)\n",
    "* train time (minutes): 17.32"
   ]
  },
  {
   "cell_type": "markdown",
   "metadata": {},
   "source": [
    "<a id='exp18'></a>\n",
    "## Experiment 18\n",
    "\n",
    "equal to [exp 17](#exp17)\n"
   ]
  },
  {
   "cell_type": "markdown",
   "metadata": {},
   "source": [
    "<a id='exp19'></a>\n",
    "## Experiment 19\n",
    "\n",
    "Parent experiment: [exp 1](#exp1)\n",
    "\n",
    "Differences from parent experiment: \n",
    "* add weight decay 0.0005\n",
    "* add augmentaion: RandomHorizontalFlip and RandomResizedCrop\n",
    "* add augmentation: Color Jitter\n",
    "* model: Base -> AlexNet \n",
    "* use pretrained weights, unfreeze last 2 FC layers\n",
    "\n",
    "Results:\n",
    "* best epoch: 53\n",
    "* test loss: 1.061143\n",
    "* test accuracy: 72.13% (603/836)\n",
    "* train time (minutes): 22.88"
   ]
  },
  {
   "cell_type": "markdown",
   "metadata": {},
   "source": [
    "<a id='exp20'></a>\n",
    "## Experiment 20\n",
    "\n",
    "Parent experiment: [exp 1](#exp1)\n",
    "\n",
    "Differences from parent experiment: \n",
    "* add weight decay 0.0005\n",
    "* add augmentaion: RandomHorizontalFlip and RandomResizedCrop\n",
    "* add augmentation: Color Jitter\n",
    "* model: Base -> AlexNet \n",
    "* use pretrained weights, unfreeze last 3 FC layers\n",
    "\n",
    "Results:\n",
    "* best epoch: 42\n",
    "* test loss: 1.062519\n",
    "* test accuracy: 74.88% (626/836)\n",
    "* train time (minutes): 18.58"
   ]
  },
  {
   "cell_type": "markdown",
   "metadata": {},
   "source": [
    "<a id='exp21'></a>\n",
    "## Experiment 21\n",
    "\n",
    "Parent experiment: [exp 1](#exp1)\n",
    "\n",
    "Differences from parent experiment: \n",
    "* use mean and std for current train dataset\n",
    "* add weight decay 0.0005\n",
    "* add augmentaion: RandomHorizontalFlip and RandomResizedCrop\n",
    "* add augmentation: Color Jitter\n",
    "* model: Base -> vgg16 (from scratch)\n",
    "\n",
    "Results:\n",
    "* best epoch: 110\n",
    "* test loss: 0.992273\n",
    "* test accuracy: 76.44% (639/836)\n",
    "* train time (minutes): 248.18"
   ]
  },
  {
   "cell_type": "markdown",
   "metadata": {},
   "source": [
    "<a id='exp22'></a>\n",
    "## Experiment 22\n",
    "\n",
    "Parent experiment: [exp 1](#exp1)\n",
    "\n",
    "Differences from parent experiment: \n",
    "* add weight decay 0.0005\n",
    "* add augmentaion: RandomHorizontalFlip and RandomResizedCrop\n",
    "* add augmentation: Color Jitter\n",
    "* model: Base -> vgg16 \n",
    "* use pretrained weights, unfreeze last FC layer\n",
    "\n",
    "Results:\n",
    "* best epoch: 1\n",
    "* test loss: 2.082360\n",
    "* test accuracy: 52.63% (440/836)\n",
    "* train time (minutes): 2.36"
   ]
  },
  {
   "cell_type": "markdown",
   "metadata": {},
   "source": [
    "<a id='exp23'></a>\n",
    "## Experiment 23\n",
    "\n",
    "Parent experiment: [exp 1](#exp1)\n",
    "\n",
    "Differences from parent experiment: \n",
    "* add weight decay 0.0005\n",
    "* add augmentaion: RandomHorizontalFlip and RandomResizedCrop\n",
    "* add augmentation: Color Jitter\n",
    "* model: Base -> vgg16 \n",
    "* use pretrained weights, unfreeze last 2 FC layers\n",
    "\n",
    "Results:\n",
    "* best epoch: 1\n",
    "* test loss: 2.082360\n",
    "* test accuracy: 52.63% (440/836)\n",
    "* train time (minutes): 1.47"
   ]
  },
  {
   "cell_type": "markdown",
   "metadata": {},
   "source": [
    "<a id='exp24'></a>\n",
    "## Experiment 24\n",
    "\n",
    "Parent experiment: [exp 1](#exp1)\n",
    "\n",
    "Differences from parent experiment: \n",
    "* add weight decay 0.0005\n",
    "* add augmentaion: RandomHorizontalFlip and RandomResizedCrop\n",
    "* add augmentation: Color Jitter\n",
    "* model: Base -> vgg16 \n",
    "* use pretrained weights, unfreeze last 3 FC layers\n",
    "\n",
    "Results:\n",
    "* best epoch: 1\n",
    "* test loss: 2.082360\n",
    "* test accuracy: 52.63% (440/836)\n",
    "* train time (minutes): 2.0"
   ]
  },
  {
   "cell_type": "markdown",
   "metadata": {},
   "source": [
    "<a id='exp25'></a>\n",
    "## Experiment 25\n",
    "\n",
    "Parent experiment: [exp 1](#exp1)\n",
    "\n",
    "Differences from parent experiment: \n",
    "* use mean and std for current train dataset\n",
    "* add weight decay 0.0005\n",
    "* add augmentaion: RandomHorizontalFlip and RandomResizedCrop\n",
    "* add augmentation: Color Jitter\n",
    "* model: Base -> Base_1 (from scratch)\n",
    "\n",
    "Results:\n",
    "* best epoch: 124\n",
    "* test loss: 4.401157\n",
    "* test accuracy: 5.26% (44/836)\n",
    "* train time (minutes): 47.38"
   ]
  }
 ],
 "metadata": {
  "anaconda-cloud": {},
  "kernelspec": {
   "display_name": "Python 3",
   "language": "python",
   "name": "python3"
  },
  "language_info": {
   "codemirror_mode": {
    "name": "ipython",
    "version": 3
   },
   "file_extension": ".py",
   "mimetype": "text/x-python",
   "name": "python",
   "nbconvert_exporter": "python",
   "pygments_lexer": "ipython3",
   "version": "3.7.0"
  }
 },
 "nbformat": 4,
 "nbformat_minor": 1
}
