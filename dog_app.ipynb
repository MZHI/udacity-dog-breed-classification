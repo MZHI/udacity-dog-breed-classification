{
 "cells": [
  {
   "cell_type": "markdown",
   "metadata": {},
   "source": [
    "# Convolutional Neural Networks\n",
    "\n",
    "## Project: Write an Algorithm for a Dog Identification App \n",
    "\n",
    "---\n",
    "\n",
    "In this notebook, some template code has already been provided for you, and you will need to implement additional functionality to successfully complete this project. You will not need to modify the included code beyond what is requested. Sections that begin with **'(IMPLEMENTATION)'** in the header indicate that the following block of code will require additional functionality which you must provide. Instructions will be provided for each section, and the specifics of the implementation are marked in the code block with a 'TODO' statement. Please be sure to read the instructions carefully! \n",
    "\n",
    "> **Note**: Once you have completed all of the code implementations, you need to finalize your work by exporting the Jupyter Notebook as an HTML document. Before exporting the notebook to html, all of the code cells need to have been run so that reviewers can see the final implementation and output. You can then export the notebook by using the menu above and navigating to **File -> Download as -> HTML (.html)**. Include the finished document along with this notebook as your submission.\n",
    "\n",
    "In addition to implementing code, there will be questions that you must answer which relate to the project and your implementation. Each section where you will answer a question is preceded by a **'Question X'** header. Carefully read each question and provide thorough answers in the following text boxes that begin with **'Answer:'**. Your project submission will be evaluated based on your answers to each of the questions and the implementation you provide.\n",
    "\n",
    ">**Note:** Code and Markdown cells can be executed using the **Shift + Enter** keyboard shortcut.  Markdown cells can be edited by double-clicking the cell to enter edit mode.\n",
    "\n",
    "The rubric contains _optional_ \"Stand Out Suggestions\" for enhancing the project beyond the minimum requirements. If you decide to pursue the \"Stand Out Suggestions\", you should include the code in this Jupyter notebook.\n",
    "\n",
    "\n",
    "\n",
    "---\n",
    "### Why We're Here \n",
    "\n",
    "In this notebook, you will make the first steps towards developing an algorithm that could be used as part of a mobile or web app.  At the end of this project, your code will accept any user-supplied image as input.  If a dog is detected in the image, it will provide an estimate of the dog's breed.  If a human is detected, it will provide an estimate of the dog breed that is most resembling.  The image below displays potential sample output of your finished project (... but we expect that each student's algorithm will behave differently!). \n",
    "\n",
    "![Sample Dog Output](images/sample_dog_output.png)\n",
    "\n",
    "In this real-world setting, you will need to piece together a series of models to perform different tasks; for instance, the algorithm that detects humans in an image will be different from the CNN that infers dog breed.  There are many points of possible failure, and no perfect algorithm exists.  Your imperfect solution will nonetheless create a fun user experience!\n",
    "\n",
    "### The Road Ahead\n",
    "\n",
    "We break the notebook into separate steps.  Feel free to use the links below to navigate the notebook.\n",
    "\n",
    "* [Step 0](#step0): Import Datasets\n",
    "* [Step 1](#step1): Detect Humans\n",
    "* [Step 2](#step2): Detect Dogs\n",
    "* [Step 3](#step3): Create a CNN to Classify Dog Breeds (from Scratch)\n",
    "* [Step 4](#step4): Create a CNN to Classify Dog Breeds (using Transfer Learning)\n",
    "* [Step 5](#step5): Write your Algorithm\n",
    "* [Step 6](#step6): Test Your Algorithm\n",
    "\n",
    "---\n",
    "<a id='step0'></a>\n",
    "## Step 0: Import Datasets\n",
    "\n",
    "Make sure that you've downloaded the required human and dog datasets:\n",
    "* Download the [dog dataset](https://s3-us-west-1.amazonaws.com/udacity-aind/dog-project/dogImages.zip).  Unzip the folder and place it in this project's home directory, at the location `/dog_images`. \n",
    "\n",
    "* Download the [human dataset](https://s3-us-west-1.amazonaws.com/udacity-aind/dog-project/lfw.zip).  Unzip the folder and place it in the home directory, at location `/lfw`.  \n",
    "\n",
    "*Note: If you are using a Windows machine, you are encouraged to use [7zip](http://www.7-zip.org/) to extract the folder.*\n",
    "\n",
    "In the code cell below, we save the file paths for both the human (LFW) dataset and dog dataset in the numpy arrays `human_files` and `dog_files`."
   ]
  },
  {
   "cell_type": "code",
   "execution_count": 1,
   "metadata": {},
   "outputs": [
    {
     "name": "stdout",
     "output_type": "stream",
     "text": [
      "There are 13233 total human images.\n",
      "There are 8351 total dog images.\n"
     ]
    }
   ],
   "source": [
    "import numpy as np\n",
    "from glob import glob\n",
    "from datetime import datetime, timedelta\n",
    "\n",
    "# load filenames for human and dog images\n",
    "human_files = np.array(glob(\"data/lfw/*/*\"))\n",
    "dog_files = np.array(glob(\"data/dogImages/*/*/*\"))\n",
    "\n",
    "# print number of images in each dataset\n",
    "print('There are %d total human images.' % len(human_files))\n",
    "print('There are %d total dog images.' % len(dog_files))"
   ]
  },
  {
   "cell_type": "markdown",
   "metadata": {},
   "source": [
    "<a id='step1'></a>\n",
    "## Step 1: Detect Humans\n",
    "\n",
    "In this section, we use OpenCV's implementation of [Haar feature-based cascade classifiers](http://docs.opencv.org/trunk/d7/d8b/tutorial_py_face_detection.html) to detect human faces in images.  \n",
    "\n",
    "OpenCV provides many pre-trained face detectors, stored as XML files on [github](https://github.com/opencv/opencv/tree/master/data/haarcascades).  We have downloaded one of these detectors and stored it in the `haarcascades` directory.  In the next code cell, we demonstrate how to use this detector to find human faces in a sample image."
   ]
  },
  {
   "cell_type": "code",
   "execution_count": null,
   "metadata": {},
   "outputs": [],
   "source": [
    "import cv2                \n",
    "import matplotlib.pyplot as plt                        \n",
    "%matplotlib inline                               \n",
    "\n",
    "# extract pre-trained face detector\n",
    "# face_cascade = cv2.CascadeClassifier('haarcascades/haarcascade_frontalface_alt.xml')\n",
    "face_cascade = cv2.CascadeClassifier(cv2.data.haarcascades + 'haarcascade_frontalface_alt.xml')\n",
    "\n",
    "# load color (BGR) image\n",
    "img = cv2.imread(human_files[0])\n",
    "# convert BGR image to grayscale\n",
    "gray = cv2.cvtColor(img, cv2.COLOR_BGR2GRAY)\n",
    "\n",
    "# find faces in image\n",
    "faces = face_cascade.detectMultiScale(gray)\n",
    "\n",
    "# print number of faces detected in the image\n",
    "print('Number of faces detected:', len(faces))\n",
    "\n",
    "# get bounding box for each detected face\n",
    "for (x,y,w,h) in faces:\n",
    "    # add bounding box to color image\n",
    "    cv2.rectangle(img,(x,y),(x+w,y+h),(255,0,0),2)\n",
    "    \n",
    "# convert BGR image to RGB for plotting\n",
    "cv_rgb = cv2.cvtColor(img, cv2.COLOR_BGR2RGB)\n",
    "\n",
    "# display the image, along with bounding box\n",
    "plt.imshow(cv_rgb)\n",
    "plt.show()"
   ]
  },
  {
   "cell_type": "markdown",
   "metadata": {},
   "source": [
    "Before using any of the face detectors, it is standard procedure to convert the images to grayscale.  The `detectMultiScale` function executes the classifier stored in `face_cascade` and takes the grayscale image as a parameter.  \n",
    "\n",
    "In the above code, `faces` is a numpy array of detected faces, where each row corresponds to a detected face.  Each detected face is a 1D array with four entries that specifies the bounding box of the detected face.  The first two entries in the array (extracted in the above code as `x` and `y`) specify the horizontal and vertical positions of the top left corner of the bounding box.  The last two entries in the array (extracted here as `w` and `h`) specify the width and height of the box.\n",
    "\n",
    "### Write a Human Face Detector\n",
    "\n",
    "We can use this procedure to write a function that returns `True` if a human face is detected in an image and `False` otherwise.  This function, aptly named `face_detector`, takes a string-valued file path to an image as input and appears in the code block below."
   ]
  },
  {
   "cell_type": "code",
   "execution_count": null,
   "metadata": {},
   "outputs": [],
   "source": [
    "# returns \"True\" if face is detected in image stored at img_path\n",
    "def face_detector(img_path):\n",
    "    img = cv2.imread(img_path)\n",
    "    gray = cv2.cvtColor(img, cv2.COLOR_BGR2GRAY)\n",
    "    faces = face_cascade.detectMultiScale(gray)\n",
    "    return len(faces) > 0"
   ]
  },
  {
   "cell_type": "code",
   "execution_count": null,
   "metadata": {},
   "outputs": [],
   "source": [
    "def show_face(img_path):\n",
    "    img = cv2.imread(img_path)\n",
    "    gray = cv2.cvtColor(img, cv2.COLOR_BGR2GRAY)\n",
    "    faces = face_cascade.detectMultiScale(gray)\n",
    "    for (x,y,w,h) in faces:\n",
    "        # add bounding box to color image\n",
    "        cv2.rectangle(img,(x,y),(x+w,y+h),(255,0,0),2)\n",
    "\n",
    "    # convert BGR image to RGB for plotting\n",
    "    cv_rgb = cv2.cvtColor(img, cv2.COLOR_BGR2RGB)\n",
    "\n",
    "    # display the image, along with bounding box\n",
    "    plt.imshow(cv_rgb)\n",
    "    plt.show()"
   ]
  },
  {
   "cell_type": "markdown",
   "metadata": {},
   "source": [
    "### (IMPLEMENTATION) Assess the Human Face Detector\n",
    "\n",
    "__Question 1:__ Use the code cell below to test the performance of the `face_detector` function.  \n",
    "- What percentage of the first 100 images in `human_files` have a detected human face?  \n",
    "- What percentage of the first 100 images in `dog_files` have a detected human face? \n",
    "\n",
    "Ideally, we would like 100% of human images with a detected face and 0% of dog images with a detected face.  You will see that our algorithm falls short of this goal, but still gives acceptable performance.  We extract the file paths for the first 100 images from each of the datasets and store them in the numpy arrays `human_files_short` and `dog_files_short`."
   ]
  },
  {
   "cell_type": "markdown",
   "metadata": {},
   "source": [
    "__Answer:__ \n",
    "(You can print out your results and/or write your percentages in this cell)"
   ]
  },
  {
   "cell_type": "code",
   "execution_count": null,
   "metadata": {},
   "outputs": [],
   "source": [
    "from tqdm import tqdm\n",
    "\n",
    "human_files_short = human_files[:100]\n",
    "dog_files_short = dog_files[:100]\n",
    "\n",
    "#-#-# Do NOT modify the code above this line. #-#-#\n",
    "\n",
    "## TODO: Test the performance of the face_detector algorithm \n",
    "## on the images in human_files_short and dog_files_short.\n",
    "face_det_res = [face_detector(human_files_short[i]) for i in tqdm(range(len(human_files_short)))]\n",
    "print(\"Face detector:\", len(np.nonzero(face_det_res)[0]), '%')\n",
    "\n",
    "face_det_dogs = [face_detector(dog_files_short[i]) for i in tqdm(range(len(dog_files_short)))]\n",
    "print(\"Face detector on dogs:\", len(np.nonzero(face_det_dogs)[0]), '%')"
   ]
  },
  {
   "cell_type": "code",
   "execution_count": null,
   "metadata": {},
   "outputs": [],
   "source": [
    "np.nonzero(face_det_dogs)[0]"
   ]
  },
  {
   "cell_type": "code",
   "execution_count": null,
   "metadata": {
    "scrolled": false
   },
   "outputs": [],
   "source": [
    "# show all face positive cases on dog images\n",
    "for idx in np.nonzero(face_det_dogs)[0]:\n",
    "    print(dog_files_short[idx])\n",
    "    show_face(dog_files_short[idx])"
   ]
  },
  {
   "cell_type": "markdown",
   "metadata": {},
   "source": [
    "We suggest the face detector from OpenCV as a potential way to detect human images in your algorithm, but you are free to explore other approaches, especially approaches that make use of deep learning :).  Please use the code cell below to design and test your own face detection algorithm.  If you decide to pursue this _optional_ task, report performance on `human_files_short` and `dog_files_short`."
   ]
  },
  {
   "cell_type": "code",
   "execution_count": null,
   "metadata": {},
   "outputs": [],
   "source": [
    "### (Optional) \n",
    "### TODO: Test performance of anotherface detection algorithm.\n",
    "### Feel free to use as many code cells as needed."
   ]
  },
  {
   "cell_type": "markdown",
   "metadata": {},
   "source": [
    "---\n",
    "<a id='step2'></a>\n",
    "## Step 2: Detect Dogs\n",
    "\n",
    "In this section, we use a [pre-trained model](http://pytorch.org/docs/master/torchvision/models.html) to detect dogs in images.  \n",
    "\n",
    "### Obtain Pre-trained VGG-16 Model\n",
    "\n",
    "The code cell below downloads the VGG-16 model, along with weights that have been trained on [ImageNet](http://www.image-net.org/), a very large, very popular dataset used for image classification and other vision tasks.  ImageNet contains over 10 million URLs, each linking to an image containing an object from one of [1000 categories](https://gist.github.com/yrevar/942d3a0ac09ec9e5eb3a).  "
   ]
  },
  {
   "cell_type": "code",
   "execution_count": null,
   "metadata": {},
   "outputs": [],
   "source": [
    "import torch\n",
    "import torchvision.models as models\n",
    "\n",
    "# define VGG16 model\n",
    "VGG16 = models.vgg16(pretrained=True)\n",
    "\n",
    "# check if CUDA is available\n",
    "use_cuda = torch.cuda.is_available()\n",
    "\n",
    "# move model to GPU if CUDA is available\n",
    "if use_cuda:\n",
    "    VGG16 = VGG16.cuda()"
   ]
  },
  {
   "cell_type": "markdown",
   "metadata": {},
   "source": [
    "Given an image, this pre-trained VGG-16 model returns a prediction (derived from the 1000 possible categories in ImageNet) for the object that is contained in the image."
   ]
  },
  {
   "cell_type": "markdown",
   "metadata": {},
   "source": [
    "### (IMPLEMENTATION) Making Predictions with a Pre-trained Model\n",
    "\n",
    "In the next code cell, you will write a function that accepts a path to an image (such as `'dogImages/train/001.Affenpinscher/Affenpinscher_00001.jpg'`) as input and returns the index corresponding to the ImageNet class that is predicted by the pre-trained VGG-16 model.  The output should always be an integer between 0 and 999, inclusive.\n",
    "\n",
    "Before writing the function, make sure that you take the time to learn  how to appropriately pre-process tensors for pre-trained models in the [PyTorch documentation](http://pytorch.org/docs/stable/torchvision/models.html)."
   ]
  },
  {
   "cell_type": "code",
   "execution_count": null,
   "metadata": {},
   "outputs": [],
   "source": [
    "from PIL import Image\n",
    "import torchvision.transforms as transforms\n",
    "import torch.nn.functional as F\n",
    "\n",
    "# Set PIL to be tolerant of image files that are truncated.\n",
    "from PIL import ImageFile\n",
    "ImageFile.LOAD_TRUNCATED_IMAGES = True\n",
    "\n",
    "normalize = transforms.Normalize(\n",
    "   mean=[0.485, 0.456, 0.406],\n",
    "   std=[0.229, 0.224, 0.225]\n",
    ")\n",
    "preprocess = transforms.Compose([\n",
    "   transforms.Resize(256),\n",
    "   transforms.CenterCrop(224),\n",
    "   transforms.ToTensor(),\n",
    "   normalize\n",
    "])\n",
    "\n",
    "def VGG16_predict(img_path):\n",
    "    '''\n",
    "    Use pre-trained VGG-16 model to obtain index corresponding to \n",
    "    predicted ImageNet class for image at specified path\n",
    "    \n",
    "    Args:\n",
    "        img_path: path to an image\n",
    "        \n",
    "    Returns:\n",
    "        Index corresponding to VGG-16 model's prediction\n",
    "    '''\n",
    "    \n",
    "    ## TODO: Complete the function.\n",
    "    ## Load and pre-process an image from the given img_path\n",
    "    ## Return the *index* of the predicted class for that image\n",
    "    \n",
    "    img_pil = Image.open(img_path)\n",
    "    img_tensor = preprocess(img_pil)\n",
    "    img_tensor.unsqueeze_(0)\n",
    "    fc_out = VGG16(img_tensor.cuda())   \n",
    "    output = F.softmax(fc_out)    \n",
    "    values, indices = output.max(1)\n",
    "    \n",
    "    if use_cuda:\n",
    "        return indices[0].cpu().numpy()#res # predicted class index\n",
    "    else:\n",
    "        return indices[0].numpy()"
   ]
  },
  {
   "cell_type": "code",
   "execution_count": null,
   "metadata": {},
   "outputs": [],
   "source": [
    "print(VGG16_predict(dog_files[0]))"
   ]
  },
  {
   "cell_type": "markdown",
   "metadata": {},
   "source": [
    "### (IMPLEMENTATION) Write a Dog Detector\n",
    "\n",
    "While looking at the [dictionary](https://gist.github.com/yrevar/942d3a0ac09ec9e5eb3a), you will notice that the categories corresponding to dogs appear in an uninterrupted sequence and correspond to dictionary keys 151-268, inclusive, to include all categories from `'Chihuahua'` to `'Mexican hairless'`.  Thus, in order to check to see if an image is predicted to contain a dog by the pre-trained VGG-16 model, we need only check if the pre-trained model predicts an index between 151 and 268 (inclusive).\n",
    "\n",
    "Use these ideas to complete the `dog_detector` function below, which returns `True` if a dog is detected in an image (and `False` if not)."
   ]
  },
  {
   "cell_type": "code",
   "execution_count": null,
   "metadata": {},
   "outputs": [],
   "source": [
    "### returns \"True\" if a dog is detected in the image stored at img_path\n",
    "def dog_detector(img_path):\n",
    "    ## TODO: Complete the function.\n",
    "    class_id = VGG16_predict(img_path)    \n",
    "    return class_id in range(151, 269) # true/false"
   ]
  },
  {
   "cell_type": "markdown",
   "metadata": {},
   "source": [
    "### (IMPLEMENTATION) Assess the Dog Detector\n",
    "\n",
    "__Question 2:__ Use the code cell below to test the performance of your `dog_detector` function.  \n",
    "- What percentage of the images in `human_files_short` have a detected dog?  \n",
    "- What percentage of the images in `dog_files_short` have a detected dog?"
   ]
  },
  {
   "cell_type": "markdown",
   "metadata": {},
   "source": [
    "__Answer:__ \n"
   ]
  },
  {
   "cell_type": "code",
   "execution_count": null,
   "metadata": {},
   "outputs": [],
   "source": [
    "### TODO: Test the performance of the dog_detector function\n",
    "### on the images in human_files_short and dog_files_short.\n",
    "dog_det_res = [dog_detector(dog_files_short[i]) for i in tqdm(range(len(dog_files_short)))]\n",
    "print('Dog detector on dogs:', len(np.nonzero(dog_det_res)[0]), '%')\n",
    "\n",
    "dog_det_res = [dog_detector(human_files_short[i]) for i in tqdm(range(len(human_files_short)))]\n",
    "print('Dog detector on humans:', len(np.nonzero(dog_det_res)[0]), '%')"
   ]
  },
  {
   "cell_type": "markdown",
   "metadata": {},
   "source": [
    "We suggest VGG-16 as a potential network to detect dog images in your algorithm, but you are free to explore other pre-trained networks (such as [Inception-v3](http://pytorch.org/docs/master/torchvision/models.html#inception-v3), [ResNet-50](http://pytorch.org/docs/master/torchvision/models.html#id3), etc).  Please use the code cell below to test other pre-trained PyTorch models.  If you decide to pursue this _optional_ task, report performance on `human_files_short` and `dog_files_short`."
   ]
  },
  {
   "cell_type": "code",
   "execution_count": null,
   "metadata": {},
   "outputs": [],
   "source": [
    "### (Optional) \n",
    "### TODO: Report the performance of another pre-trained network.\n",
    "### Feel free to use as many code cells as needed."
   ]
  },
  {
   "cell_type": "markdown",
   "metadata": {},
   "source": [
    "---\n",
    "<a id='step3'></a>\n",
    "## Step 3: Create a CNN to Classify Dog Breeds (from Scratch)\n",
    "\n",
    "Now that we have functions for detecting humans and dogs in images, we need a way to predict breed from images.  In this step, you will create a CNN that classifies dog breeds.  You must create your CNN _from scratch_ (so, you can't use transfer learning _yet_!), and you must attain a test accuracy of at least 10%.  In Step 4 of this notebook, you will have the opportunity to use transfer learning to create a CNN that attains greatly improved accuracy.\n",
    "\n",
    "We mention that the task of assigning breed to dogs from images is considered exceptionally challenging.  To see why, consider that *even a human* would have trouble distinguishing between a Brittany and a Welsh Springer Spaniel.  \n",
    "\n",
    "Brittany | Welsh Springer Spaniel\n",
    "- | - \n",
    "<img src=\"images/Brittany_02625.jpg\" width=\"100\"> | <img src=\"images/Welsh_springer_spaniel_08203.jpg\" width=\"200\">\n",
    "\n",
    "It is not difficult to find other dog breed pairs with minimal inter-class variation (for instance, Curly-Coated Retrievers and American Water Spaniels).  \n",
    "\n",
    "Curly-Coated Retriever | American Water Spaniel\n",
    "- | -\n",
    "<img src=\"images/Curly-coated_retriever_03896.jpg\" width=\"200\"> | <img src=\"images/American_water_spaniel_00648.jpg\" width=\"200\">\n",
    "\n",
    "\n",
    "Likewise, recall that labradors come in yellow, chocolate, and black.  Your vision-based algorithm will have to conquer this high intra-class variation to determine how to classify all of these different shades as the same breed.  \n",
    "\n",
    "Yellow Labrador | Chocolate Labrador | Black Labrador\n",
    "- | -\n",
    "<img src=\"images/Labrador_retriever_06457.jpg\" width=\"150\"> | <img src=\"images/Labrador_retriever_06455.jpg\" width=\"240\"> | <img src=\"images/Labrador_retriever_06449.jpg\" width=\"220\">\n",
    "\n",
    "We also mention that random chance presents an exceptionally low bar: setting aside the fact that the classes are slightly imabalanced, a random guess will provide a correct answer roughly 1 in 133 times, which corresponds to an accuracy of less than 1%.  \n",
    "\n",
    "Remember that the practice is far ahead of the theory in deep learning.  Experiment with many different architectures, and trust your intuition.  And, of course, have fun!\n",
    "\n",
    "### (IMPLEMENTATION) Specify Data Loaders for the Dog Dataset\n",
    "\n",
    "Use the code cell below to write three separate [data loaders](http://pytorch.org/docs/stable/data.html#torch.utils.data.DataLoader) for the training, validation, and test datasets of dog images (located at `dog_images/train`, `dog_images/valid`, and `dog_images/test`, respectively).  You may find [this documentation on custom datasets](http://pytorch.org/docs/stable/torchvision/datasets.html) to be a useful resource.  If you are interested in augmenting your training and/or validation data, check out the wide variety of [transforms](http://pytorch.org/docs/stable/torchvision/transforms.html?highlight=transform)!"
   ]
  },
  {
   "cell_type": "code",
   "execution_count": 2,
   "metadata": {},
   "outputs": [],
   "source": [
    "import os\n",
    "import torch\n",
    "from torchvision import datasets\n",
    "import numpy as np\n",
    "import torchvision.transforms as transforms\n",
    "\n",
    "# check if CUDA is available\n",
    "use_cuda = torch.cuda.is_available()\n",
    "\n",
    "### TODO: Write data loaders for training, validation, and test sets\n",
    "## Specify appropriate transforms, and batch_sizes\n",
    "\n",
    "normalize = transforms.Normalize(\n",
    "   mean=[0.485, 0.456, 0.406],\n",
    "   std=[0.229, 0.224, 0.225]\n",
    ")\n",
    "preprocess = transforms.Compose([\n",
    "   transforms.Resize(256),\n",
    "   transforms.CenterCrop(224),\n",
    "   transforms.ToTensor(),\n",
    "   normalize\n",
    "])\n",
    "\n",
    "train_data = datasets.ImageFolder(\"data/dogImages/train/\", transform=preprocess)\n",
    "valid_data = datasets.ImageFolder(\"data/dogImages/valid/\", transform=preprocess)\n",
    "test_data = datasets.ImageFolder(\"data/dogImages/test/\", transform=preprocess)\n",
    "\n",
    "# define dataloader parameters\n",
    "batch_size = 32\n",
    "num_workers=0\n",
    "\n",
    "# prepare data loaders\n",
    "loaders_scratch = {}\n",
    "loaders_scratch['train'] = torch.utils.data.DataLoader(train_data, batch_size=batch_size, \n",
    "                                           num_workers=num_workers, shuffle=True)\n",
    "loaders_scratch['valid'] = torch.utils.data.DataLoader(test_data, batch_size=batch_size, \n",
    "                                          num_workers=num_workers, shuffle=True)\n",
    "loaders_scratch['test'] = torch.utils.data.DataLoader(test_data, batch_size=batch_size, \n",
    "                                          num_workers=num_workers, shuffle=True)\n"
   ]
  },
  {
   "cell_type": "markdown",
   "metadata": {},
   "source": [
    "**Question 3:** Describe your chosen procedure for preprocessing the data. \n",
    "- How does your code resize the images (by cropping, stretching, etc)?  What size did you pick for the input tensor, and why?\n",
    "- Did you decide to augment the dataset?  If so, how (through translations, flips, rotations, etc)?  If not, why not?\n"
   ]
  },
  {
   "cell_type": "markdown",
   "metadata": {},
   "source": [
    "**Answer**:"
   ]
  },
  {
   "cell_type": "markdown",
   "metadata": {},
   "source": [
    "### (IMPLEMENTATION) Model Architecture\n",
    "\n",
    "Create a CNN to classify dog breed.  Use the template in the code cell below."
   ]
  },
  {
   "cell_type": "code",
   "execution_count": 3,
   "metadata": {},
   "outputs": [
    {
     "data": {
      "text/plain": [
       "True"
      ]
     },
     "execution_count": 3,
     "metadata": {},
     "output_type": "execute_result"
    }
   ],
   "source": [
    "torch.cuda.is_available()"
   ]
  },
  {
   "cell_type": "code",
   "execution_count": 4,
   "metadata": {},
   "outputs": [
    {
     "name": "stdout",
     "output_type": "stream",
     "text": [
      "{151: 'Chihuahua', 152: 'Japanese spaniel', 153: 'Maltese dog, Maltese terrier, Maltese', 154: 'Pekinese, Pekingese, Peke', 155: 'Shih-Tzu', 156: 'Blenheim spaniel', 157: 'papillon', 158: 'toy terrier', 159: 'Rhodesian ridgeback', 160: 'Afghan hound, Afghan', 161: 'basset, basset hound', 162: 'beagle', 163: 'bloodhound, sleuthhound', 164: 'bluetick', 165: 'black-and-tan coonhound', 166: 'Walker hound, Walker foxhound', 167: 'English foxhound', 168: 'redbone', 169: 'borzoi, Russian wolfhound', 170: 'Irish wolfhound', 171: 'Italian greyhound', 172: 'whippet', 173: 'Ibizan hound, Ibizan Podenco', 174: 'Norwegian elkhound, elkhound', 175: 'otterhound, otter hound', 176: 'Saluki, gazelle hound', 177: 'Scottish deerhound, deerhound', 178: 'Weimaraner', 179: 'Staffordshire bullterrier, Staffordshire bull terrier', 180: 'American Staffordshire terrier, Staffordshire terrier, American pit bull terrier, pit bull terrier', 181: 'Bedlington terrier', 182: 'Border terrier', 183: 'Kerry blue terrier', 184: 'Irish terrier', 185: 'Norfolk terrier', 186: 'Norwich terrier', 187: 'Yorkshire terrier', 188: 'wire-haired fox terrier', 189: 'Lakeland terrier', 190: 'Sealyham terrier, Sealyham', 191: 'Airedale, Airedale terrier', 192: 'cairn, cairn terrier', 193: 'Australian terrier', 194: 'Dandie Dinmont, Dandie Dinmont terrier', 195: 'Boston bull, Boston terrier', 196: 'miniature schnauzer', 197: 'giant schnauzer', 198: 'standard schnauzer', 199: 'Scotch terrier, Scottish terrier, Scottie', 200: 'Tibetan terrier, chrysanthemum dog', 201: 'silky terrier, Sydney silky', 202: 'soft-coated wheaten terrier', 203: 'West Highland white terrier', 204: 'Lhasa, Lhasa apso', 205: 'flat-coated retriever', 206: 'curly-coated retriever', 207: 'golden retriever', 208: 'Labrador retriever', 209: 'Chesapeake Bay retriever', 210: 'German short-haired pointer', 211: 'vizsla, Hungarian pointer', 212: 'English setter', 213: 'Irish setter, red setter', 214: 'Gordon setter', 215: 'Brittany spaniel', 216: 'clumber, clumber spaniel', 217: 'English springer, English springer spaniel', 218: 'Welsh springer spaniel', 219: 'cocker spaniel, English cocker spaniel, cocker', 220: 'Sussex spaniel', 221: 'Irish water spaniel', 222: 'kuvasz', 223: 'schipperke', 224: 'groenendael', 225: 'malinois', 226: 'briard', 227: 'kelpie', 228: 'komondor', 229: 'Old English sheepdog, bobtail', 230: 'Shetland sheepdog, Shetland sheep dog, Shetland', 231: 'collie', 232: 'Border collie', 233: 'Bouvier des Flandres, Bouviers des Flandres', 234: 'Rottweiler', 235: 'German shepherd, German shepherd dog, German police dog, alsatian', 236: 'Doberman, Doberman pinscher', 237: 'miniature pinscher', 238: 'Greater Swiss Mountain dog', 239: 'Bernese mountain dog', 240: 'Appenzeller', 241: 'EntleBucher', 242: 'boxer', 243: 'bull mastiff', 244: 'Tibetan mastiff', 245: 'French bulldog', 246: 'Great Dane', 247: 'Saint Bernard, St Bernard', 248: 'Eskimo dog, husky', 249: 'malamute, malemute, Alaskan malamute', 250: 'Siberian husky', 251: 'dalmatian, coach dog, carriage dog', 252: 'affenpinscher, monkey pinscher, monkey dog', 253: 'basenji', 254: 'pug, pug-dog', 255: 'Leonberg', 256: 'Newfoundland, Newfoundland dog', 257: 'Great Pyrenees', 258: 'Samoyed, Samoyede', 259: 'Pomeranian', 260: 'chow, chow chow', 261: 'keeshond', 262: 'Brabancon griffon', 263: 'Pembroke, Pembroke Welsh corgi', 264: 'Cardigan, Cardigan Welsh corgi', 265: 'toy poodle', 266: 'miniature poodle', 267: 'standard poodle', 268: 'Mexican hairless', 269: 'timber wolf, grey wolf, gray wolf, Canis lupus'}\n"
     ]
    }
   ],
   "source": [
    "# load imagenet 1000 classes dict\n",
    "import json\n",
    "classes_path = \"classes_imagenet.json\"\n",
    "with open(classes_path) as json_file:\n",
    "    classes_dict = json.load(json_file)\n",
    "classes_dict = {int(k): v for k, v in classes_dict.items()}\n",
    "# print(classes_dict)\n",
    "classes_dogs = {k : v for k, v in classes_dict.items() if k in list(range(151, 270))}\n",
    "print(classes_dogs)"
   ]
  },
  {
   "cell_type": "code",
   "execution_count": 5,
   "metadata": {},
   "outputs": [
    {
     "name": "stdout",
     "output_type": "stream",
     "text": [
      "Net(\n",
      "  (conv1): Conv2d(3, 48, kernel_size=(11, 11), stride=(4, 4), padding=(2, 2))\n",
      "  (conv2): Conv2d(48, 128, kernel_size=(5, 5), stride=(1, 1), padding=(2, 2))\n",
      "  (conv3): Conv2d(128, 192, kernel_size=(3, 3), stride=(1, 1), padding=(1, 1))\n",
      "  (conv4): Conv2d(192, 192, kernel_size=(3, 3), stride=(1, 1), padding=(1, 1))\n",
      "  (conv5): Conv2d(192, 128, kernel_size=(3, 3), stride=(1, 1), padding=(1, 1))\n",
      "  (pool): MaxPool2d(kernel_size=2, stride=2, padding=0, dilation=1, ceil_mode=False)\n",
      "  (fc1): Linear(in_features=4608, out_features=2048, bias=True)\n",
      "  (fc2): Linear(in_features=2048, out_features=2048, bias=True)\n",
      "  (fc3): Linear(in_features=2048, out_features=133, bias=True)\n",
      "  (dropout): Dropout(p=0.5, inplace=False)\n",
      ")\n"
     ]
    }
   ],
   "source": [
    "import torch.nn as nn\n",
    "import torch.nn.functional as F\n",
    "from torch import sigmoid\n",
    "\n",
    "# NCLASSES = 269 - 151\n",
    "NCLASSES = 133\n",
    "DEBUG = 0\n",
    "\n",
    "# define the CNN architecture\n",
    "class Net(nn.Module):\n",
    "    ### TODO: choose an architecture, and complete the class\n",
    "    # A simple AlexNet architecture as baseline model\n",
    "    def __init__(self):\n",
    "        super(Net, self).__init__()\n",
    "        self.conv1 = nn.Conv2d(3, 48, 11, 4, padding=2)\n",
    "        self.conv2 = nn.Conv2d(48, 128, 5, 1, padding=2)\n",
    "        self.conv3 = nn.Conv2d(128, 192, 3, 1, padding=1)\n",
    "        self.conv4 = nn.Conv2d(192, 192, 3, 1, padding=1)\n",
    "        self.conv5 = nn.Conv2d(192, 128, 3, 1, padding=1)\n",
    "        \n",
    "        self.pool = nn.MaxPool2d(2, 2)\n",
    "        \n",
    "        self.fc1 = nn.Linear(6 * 6 * 128, 2048, bias=True)\n",
    "        self.fc2 = nn.Linear(2048, 2048, bias=True)\n",
    "        self.fc3 = nn.Linear(2048, NCLASSES, bias=True)\n",
    "        \n",
    "        self.dropout = nn.Dropout(0.5)\n",
    "        \n",
    "    \n",
    "    def forward(self, x):\n",
    "        ## Define forward behavior\n",
    "        x = F.relu(self.conv1(x))\n",
    "        x = self.pool(x)\n",
    "        x = F.relu(self.conv2(x))\n",
    "        x = self.pool(x)\n",
    "        x = F.relu(self.conv3(x))\n",
    "        x = F.relu(self.conv4(x))\n",
    "        x = F.relu(self.conv5(x))\n",
    "        x = self.pool(x)\n",
    "        x = x.view(-1, 6 * 6 * 128)\n",
    "        x = F.relu(self.fc1(x))\n",
    "        x = self.dropout(x)\n",
    "        x = F.relu(self.fc2(x))\n",
    "        x = self.dropout(x)\n",
    "        x = self.fc3(x)\n",
    "        x = sigmoid(x)\n",
    "        \n",
    "        return x\n",
    "\n",
    "#-#-# You do NOT have to modify the code below this line. #-#-#\n",
    "\n",
    "# instantiate the CNN\n",
    "model_scratch = Net()\n",
    "\n",
    "# move tensors to GPU if CUDA is available\n",
    "if use_cuda:\n",
    "    model_scratch.cuda()\n",
    "print(model_scratch)"
   ]
  },
  {
   "cell_type": "code",
   "execution_count": 6,
   "metadata": {},
   "outputs": [
    {
     "name": "stdout",
     "output_type": "stream",
     "text": [
      "Total number of memory allocated on GPU: 59.42 MB\n"
     ]
    }
   ],
   "source": [
    "print(\"Total number of memory allocated on GPU: {:.2f} MB\".format(torch.cuda.max_memory_allocated() * 1.0e-6))"
   ]
  },
  {
   "cell_type": "markdown",
   "metadata": {},
   "source": [
    "__Question 4:__ Outline the steps you took to get to your final CNN architecture and your reasoning at each step.  "
   ]
  },
  {
   "cell_type": "markdown",
   "metadata": {},
   "source": [
    "__Answer:__ "
   ]
  },
  {
   "cell_type": "markdown",
   "metadata": {},
   "source": [
    "### (IMPLEMENTATION) Specify Loss Function and Optimizer\n",
    "\n",
    "Use the next code cell to specify a [loss function](http://pytorch.org/docs/stable/nn.html#loss-functions) and [optimizer](http://pytorch.org/docs/stable/optim.html).  Save the chosen loss function as `criterion_scratch`, and the optimizer as `optimizer_scratch` below."
   ]
  },
  {
   "cell_type": "code",
   "execution_count": 7,
   "metadata": {},
   "outputs": [],
   "source": [
    "import torch.optim as optim\n",
    "\n",
    "### TODO: select loss function\n",
    "criterion_scratch = nn.CrossEntropyLoss()\n",
    "\n",
    "### TODO: select optimizer\n",
    "optimizer_scratch = optim.SGD(model_scratch.parameters(), lr=0.1)"
   ]
  },
  {
   "cell_type": "code",
   "execution_count": 8,
   "metadata": {},
   "outputs": [],
   "source": [
    "from tensorboardX import SummaryWriter\n",
    "from pathlib import Path\n",
    "\n",
    "lr = optimizer_scratch.param_groups[0]['lr']\n",
    "log_path = 'tensorboard_logs'\n",
    "checkpoints_dir = 'checkpoints'\n",
    "comment = \"scratch-\"\n",
    "checkpoint_name = '{}model-batch-{}-lr-{}'.format(\n",
    "                comment, batch_size, lr)\n",
    "current_checkpoint_dir = Path(checkpoints_dir) / checkpoint_name\n",
    "checkpoints_path = str(current_checkpoint_dir / '{}.pt'.format(checkpoint_name))\n",
    "Path(checkpoints_path).parent.mkdir(parents=True, exist_ok=True)  # create checkpoint folder\n",
    "tensorboard_dir = str(Path(log_path) / checkpoint_name)\n",
    "writer = SummaryWriter(tensorboard_dir)  # creating TensorBoard writer"
   ]
  },
  {
   "cell_type": "markdown",
   "metadata": {},
   "source": [
    "### (IMPLEMENTATION) Train and Validate the Model\n",
    "\n",
    "Train and validate your model in the code cell below.  [Save the final model parameters](http://pytorch.org/docs/master/notes/serialization.html) at filepath `'model_scratch.pt'`."
   ]
  },
  {
   "cell_type": "code",
   "execution_count": 9,
   "metadata": {},
   "outputs": [],
   "source": [
    "def save_checkpoint(checkpoint: dict, save_path: str, checkpoint_type: str = 'best'):\n",
    "    checkpoint_type = checkpoint_type.replace(' ', '_')\n",
    "    if len(checkpoint_type) != 0:\n",
    "        if checkpoint_type[-1] != '-':\n",
    "            checkpoint_type += '-'  # 'best' -> 'best-' OR 'epoch_10' -> 'epoch_10-'\n",
    "\n",
    "    save_path = str(Path(save_path).parent / '{}{}'.format(checkpoint_type, Path(save_path).name))\n",
    "\n",
    "    torch.save(checkpoint, save_path)  # save checkpoint\n",
    "    print(\"SUCCESSFULLY SAVED '{}' checkpoint to: {}\".format(checkpoint_type, save_path))"
   ]
  },
  {
   "cell_type": "code",
   "execution_count": 15,
   "metadata": {},
   "outputs": [],
   "source": [
    "def load_checkpoint(checkpoint_path, model=None, optimizer=None):\n",
    "    \n",
    "    \"\"\"\n",
    "    :param checkpoint_path: path to save checkpoint\n",
    "    :param model: model that we want to load checkpoint parameters into\n",
    "    :param optimizer: optimizer we defined in previous training\n",
    "    :return:\n",
    "    \"\"\"\n",
    "    assert Path(checkpoint_path).exists(), \"NOT EXISTS the checkpoint_path: {}\".format(checkpoint_path)\n",
    "    checkpoint_dict = torch.load(checkpoint_path)  # load checkpoint file\n",
    "    print(\"\\nSUCCESSFULLY LOADED checkpoint from {}\".format(checkpoint_path))\n",
    "    print(\"Available checkpoint's dictionary keys: {}\".format(checkpoint_dict.keys()))\n",
    "\n",
    "    result_dict = dict()\n",
    "    if 'datetime_saved' in checkpoint_dict.keys():\n",
    "        result_dict['datetime_saved'] = checkpoint_dict['datetime_saved']\n",
    "    else:\n",
    "        result_dict['datetime_saved'] = None\n",
    "\n",
    "    if 'epoch' in checkpoint_dict.keys():\n",
    "        result_dict['epoch'] = checkpoint_dict['epoch']\n",
    "    else:\n",
    "        result_dict['epoch'] = None\n",
    "\n",
    "    if 'loss_train' in checkpoint_dict.keys():\n",
    "        result_dict['loss_train'] = checkpoint_dict['loss_train']\n",
    "    else:\n",
    "        result_dict['loss_train'] = None\n",
    "\n",
    "    if 'loss_val' in checkpoint_dict.keys():\n",
    "        result_dict['loss_val'] = checkpoint_dict['loss_val']\n",
    "    else:\n",
    "        result_dict['loss_val'] = None\n",
    "        \n",
    "    if 'lr' in checkpoint_dict.keys():\n",
    "        result_dict['lr'] = checkpoint_dict['lr']\n",
    "    else:\n",
    "        result_dict['lr'] = None\n",
    "\n",
    "    if 'num_classes' in checkpoint_dict.keys():\n",
    "        result_dict['num_classes'] = checkpoint_dict['num_classes']\n",
    "    else:\n",
    "        result_dict['num_classes'] = None\n",
    "\n",
    "    if 'model_state_dict' in checkpoint_dict.keys():\n",
    "        _model_state_dict = checkpoint_dict['model_state_dict']\n",
    "    else:\n",
    "        _model_state_dict = None\n",
    "\n",
    "    if 'optimizer_state_dict' in checkpoint_dict.keys():\n",
    "        _optimizer_state_dict = checkpoint_dict['optimizer_state_dict']\n",
    "    else:\n",
    "        _optimizer_state_dict = None\n",
    "\n",
    "    if 'end_training_time' in checkpoint_dict.keys():\n",
    "        result_dict['end_training_time'] = checkpoint_dict['end_training_time']\n",
    "    else:\n",
    "        result_dict['end_training_time'] = None\n",
    "\n",
    "    if 'total_train_time_seconds' in checkpoint_dict.keys():\n",
    "        result_dict['total_train_time_seconds'] = checkpoint_dict['total_train_time_seconds']\n",
    "    else:\n",
    "        result_dict['total_train_time_seconds'] = None\n",
    "        \n",
    "    if 'classes_dict' in checkpoint_dict.keys():\n",
    "        result_dict['classes_dict'] = checkpoint_dict['classes_dict']\n",
    "    else:\n",
    "        result_dict['classes_dict'] = None\n",
    "\n",
    "    if 'tensorboard_dir' in checkpoint_dict.keys():\n",
    "        result_dict['tensorboard_dir'] = checkpoint_dict['tensorboard_dir']\n",
    "    else:\n",
    "        result_dict['tensorboard_dir'] = None\n",
    "\n",
    "    if model is None:  # if model not defined, than model should be initialized to load in the checkpoint parameters\n",
    "        assert _model_state_dict is not None, 'NOT FOUNDED model_state_dict in checkpoint dict'\n",
    "        \n",
    "        model = Net()\n",
    "        model.load_state_dict(_model_state_dict)  # loading parameters from saved state_dict to initialized model\n",
    "    else:\n",
    "        assert _model_state_dict is not None, 'NOT FOUNDED model_state_dict in checkpoint dict'\n",
    "        model.load_state_dict(_model_state_dict)  # loading parameters from saved state_dict to defined model\n",
    "        \n",
    "    if optimizer is None:\n",
    "        assert _optimizer_state_dict is not None, 'NOT FOUNDED optimizer_state_dict in checkoint dict'\n",
    "        optimizer = optim.SGD(model.parameters(), lr=lr)\n",
    "        optimizer.load_state_dict(_optimizer_state_dict)\n",
    "    else:\n",
    "        assert _optimizer_state_dict is not None, 'NOT FOUNDED optimizer_state_dict in checkoint dict'\n",
    "        optimizer.load_state_dict(_optimizer_state_dict)\n",
    "\n",
    "    return model, optimizer, result_dict"
   ]
  },
  {
   "cell_type": "code",
   "execution_count": 19,
   "metadata": {},
   "outputs": [
    {
     "name": "stdout",
     "output_type": "stream",
     "text": [
      "\n",
      "SUCCESSFULLY LOADED checkpoint from checkpoints/scratch-model-batch-32-lr-0.1/best-scratch-model-batch-32-lr-0.1.pt\n",
      "Available checkpoint's dictionary keys: dict_keys(['datetime_saved', 'epoch', 'loss_train', 'loss_val', 'lr', 'num_classes', 'model_state_dict', 'optimizer_state_dict', 'end_training_time', 'total_train_time_seconds', 'classes_dict', 'tensorboard_dir'])\n",
      "Loaded model. Epoch: 18, val_batch_loss: 4.6415290741258834\n"
     ]
    }
   ],
   "source": [
    "# if load model\n",
    "load_model = True\n",
    "load_last = False\n",
    "if load_model:\n",
    "    if load_last:\n",
    "        # loading last checkpoint\n",
    "        checkpoint_path = Path(checkpoints_path).parent / 'last-{}.pt'.format(checkpoint_name)\n",
    "    else:\n",
    "        # loading best checkpoint\n",
    "        checkpoint_path = Path(checkpoints_path).parent / 'best-{}.pt'.format(checkpoint_name)\n",
    "    model_scratch, optimizer_scratch, result_dict = load_checkpoint(checkpoint_path)\n",
    "    if use_cuda:\n",
    "        model_scratch.cuda()\n",
    "    print(\"Loaded model. Epoch: {}, val_batch_loss: {}\".format(result_dict['epoch'], result_dict['loss_val']))"
   ]
  },
  {
   "cell_type": "code",
   "execution_count": 17,
   "metadata": {
    "scrolled": false
   },
   "outputs": [],
   "source": [
    "from PIL import ImageFile\n",
    "ImageFile.LOAD_TRUNCATED_IMAGES = True\n",
    "from tqdm import tqdm\n",
    "\n",
    "def train(n_epochs, loaders, model, optimizer, criterion, use_cuda,\n",
    "         resume_train=False, result_dict=None):\n",
    "    \"\"\"returns trained model\"\"\"\n",
    "    # initialize tracker for minimum validation loss\n",
    "    \n",
    "    if resume_train:\n",
    "        assert result_dict is not None\n",
    "        \n",
    "    valid_loss_min = np.Inf \n",
    "    total_train_time_seconds = 0.0\n",
    "    epoch_begin = 1\n",
    "    \n",
    "    if resume_train:\n",
    "        print(\"Resuming training process. Last epoch: {}, valid loss min: {}\".\n",
    "             format(result_dict['epoch'], result_dict['loss_val']))\n",
    "        valid_loss_min = result_dict['loss_val']\n",
    "        total_train_time_seconds = result_dict['total_train_time_seconds']\n",
    "        epoch_begin = result_dict['epoch'] + 1\n",
    "    else:\n",
    "        print(\"Starting train from epoch 1, from scratch\")\n",
    "        \n",
    "    \n",
    "    start_training_time = datetime.now()\n",
    "    \n",
    "    for epoch in range(epoch_begin, epoch_begin + n_epochs):\n",
    "        # initialize variables to monitor training and validation loss\n",
    "        train_loss = 0.0\n",
    "        valid_loss = 0.0\n",
    "        \n",
    "        if writer is not None:\n",
    "            writer.add_scalar('Learning Rate', lr, epoch)\n",
    "        \n",
    "        \n",
    "        ###################\n",
    "        # train the model #\n",
    "        ###################\n",
    "        model.train()\n",
    "        with tqdm(loaders['train'], unit=\"batch\") as tepoch:\n",
    "            for data, target in tepoch:\n",
    "                tepoch.set_description(f\"Train. Epoch {epoch}\")\n",
    "    #             print(target)\n",
    "    #             print(\"data shape: {}\".format(data.shape))\n",
    "    #             print(\"target shape: {}\".format(target.shape))\n",
    "                # move to GPU\n",
    "                if use_cuda:\n",
    "                    data, target = data.cuda(), target.cuda()\n",
    "                ## find the loss and update the model parameters accordingly\n",
    "                ## record the average training loss, using something like\n",
    "                ## train_loss = train_loss + ((1 / (batch_idx + 1)) * (loss.data - train_loss))\n",
    "                \n",
    "                optimizer_scratch.zero_grad()\n",
    "                output = model_scratch(data)\n",
    "                loss = criterion_scratch(output, target)\n",
    "                loss.backward()\n",
    "                optimizer_scratch.step()\n",
    "                train_loss += loss.item() * data.size(0)\n",
    "                tepoch.set_postfix(loss=train_loss)\n",
    "            \n",
    "        ######################    \n",
    "        # validate the model #\n",
    "        ######################\n",
    "        model.eval()\n",
    "        with tqdm(loaders['valid'], unit=\"batch\") as vepoch:\n",
    "            for data, target in vepoch:\n",
    "                vepoch.set_description(f\"Valid. Epoch {epoch}\")\n",
    "                # move to GPU\n",
    "                if use_cuda:\n",
    "                    data, target = data.cuda(), target.cuda()\n",
    "                \n",
    "                output = model_scratch(data)\n",
    "                loss = criterion_scratch(output, target)\n",
    "                ## update the average validation loss\n",
    "                valid_loss += loss.item()*data.size(0)\n",
    "                vepoch.set_postfix(loss=valid_loss)\n",
    "\n",
    "        ## calculate average batch train and validation loss\n",
    "        train_loss /= len(loaders['train'].sampler)\n",
    "        valid_loss /= len(loaders['valid'].sampler)\n",
    "    \n",
    "        if writer is not None:\n",
    "            writer.add_scalar('{}/TrainLoss'.format(\"train\"), train_loss, epoch)\n",
    "            writer.add_scalar('{}/ValidLoss'.format(\"val\"), valid_loss, epoch)\n",
    "            \n",
    "        # print training/validation statistics \n",
    "        print('Epoch: {} \\tTraining Loss: {:.6f} \\tValidation Loss: {:.6f}'.format(\n",
    "            epoch, \n",
    "            train_loss,\n",
    "            valid_loss\n",
    "            ))\n",
    "        \n",
    "        ## TODO: save the model if validation loss has decreased\n",
    "        if valid_loss < valid_loss_min:\n",
    "            print(\"Epoch {}: Upgrate of model quality: ({:.5f})->({:.5f})\".format(epoch, valid_loss_min, valid_loss))\n",
    "            \n",
    "            delta_time = datetime.now() - start_training_time\n",
    "            checkpoint = {\n",
    "                    'datetime_saved': datetime.now(),\n",
    "                    'epoch': epoch,\n",
    "                    'loss_train': train_loss, \n",
    "                    'loss_val': valid_loss,\n",
    "                    'lr': lr, \n",
    "                    'num_classes': model.fc3.out_features,  \n",
    "                    'model_state_dict': model_scratch.state_dict(), \n",
    "                    'optimizer_state_dict': optimizer_scratch.state_dict(), \n",
    "                    'end_training_time': delta_time, \n",
    "                    'total_train_time_seconds': total_train_time_seconds + \n",
    "                                                delta_time.seconds + \n",
    "                                                delta_time.days * 24 * 3600,\n",
    "                    'classes_dict': classes_dict, \n",
    "                    'tensorboard_dir': tensorboard_dir\n",
    "                }\n",
    "            save_checkpoint(checkpoint=checkpoint, save_path=checkpoints_path, \n",
    "                           checkpoint_type='best')\n",
    "#             torch.save(model_scratch.state_dict(), 'model_scratch.pt')\n",
    "            valid_loss_min = valid_loss\n",
    "    \n",
    "        # save last checkpoint:\n",
    "        delta_time = datetime.now() - start_training_time\n",
    "        checkpoint = {\n",
    "                'datetime_saved': datetime.now(),\n",
    "                'epoch': epoch,\n",
    "                'loss_train': train_loss, \n",
    "                'loss_val': valid_loss,\n",
    "                'lr': lr, \n",
    "                'num_classes': model.fc3.out_features,  \n",
    "                'model_state_dict': model_scratch.state_dict(), \n",
    "                'optimizer_state_dict': optimizer_scratch.state_dict(), \n",
    "                'end_training_time': delta_time, \n",
    "                'total_train_time_seconds': total_train_time_seconds + \n",
    "                                                delta_time.seconds + \n",
    "                                                delta_time.days * 24 * 3600,\n",
    "                'classes_dict': classes_dict, \n",
    "                'tensorboard_dir': tensorboard_dir\n",
    "        }\n",
    "        save_checkpoint(checkpoint=checkpoint, save_path=checkpoints_path, \n",
    "                           checkpoint_type='last')\n",
    "    \n",
    "            \n",
    "    # return trained model\n",
    "    return model"
   ]
  },
  {
   "cell_type": "code",
   "execution_count": 18,
   "metadata": {},
   "outputs": [
    {
     "name": "stderr",
     "output_type": "stream",
     "text": [
      "\r",
      "  0%|          | 0/209 [00:00<?, ?batch/s]"
     ]
    },
    {
     "name": "stdout",
     "output_type": "stream",
     "text": [
      "Resuming training process. Last epoch: 4, valid loss min: 4.888293969003778\n"
     ]
    },
    {
     "name": "stderr",
     "output_type": "stream",
     "text": [
      "Train. Epoch 5: 100%|██████████| 209/209 [01:00<00:00,  3.48batch/s, loss=3.26e+4]\n",
      "Valid. Epoch 5: 100%|██████████| 27/27 [00:06<00:00,  4.03batch/s, loss=4.07e+3]\n"
     ]
    },
    {
     "name": "stdout",
     "output_type": "stream",
     "text": [
      "Epoch: 5 \tTraining Loss: 4.886799 \tValidation Loss: 4.870338\n",
      "Epoch 5: Upgrate of model quality: (4.88829)->(4.87034)\n",
      "SUCCESSFULLY SAVED 'best-' checkpoint to: checkpoints/scratch-model-batch-32-lr-0.1/best-scratch-model-batch-32-lr-0.1.pt\n"
     ]
    },
    {
     "name": "stderr",
     "output_type": "stream",
     "text": [
      "\r",
      "  0%|          | 0/209 [00:00<?, ?batch/s]"
     ]
    },
    {
     "name": "stdout",
     "output_type": "stream",
     "text": [
      "SUCCESSFULLY SAVED 'last-' checkpoint to: checkpoints/scratch-model-batch-32-lr-0.1/last-scratch-model-batch-32-lr-0.1.pt\n"
     ]
    },
    {
     "name": "stderr",
     "output_type": "stream",
     "text": [
      "Train. Epoch 6: 100%|██████████| 209/209 [01:01<00:00,  3.41batch/s, loss=3.24e+4]\n",
      "Valid. Epoch 6: 100%|██████████| 27/27 [00:07<00:00,  3.81batch/s, loss=4.03e+3]\n"
     ]
    },
    {
     "name": "stdout",
     "output_type": "stream",
     "text": [
      "Epoch: 6 \tTraining Loss: 4.856345 \tValidation Loss: 4.818939\n",
      "Epoch 6: Upgrate of model quality: (4.87034)->(4.81894)\n",
      "SUCCESSFULLY SAVED 'best-' checkpoint to: checkpoints/scratch-model-batch-32-lr-0.1/best-scratch-model-batch-32-lr-0.1.pt\n"
     ]
    },
    {
     "name": "stderr",
     "output_type": "stream",
     "text": [
      "\r",
      "  0%|          | 0/209 [00:00<?, ?batch/s]"
     ]
    },
    {
     "name": "stdout",
     "output_type": "stream",
     "text": [
      "SUCCESSFULLY SAVED 'last-' checkpoint to: checkpoints/scratch-model-batch-32-lr-0.1/last-scratch-model-batch-32-lr-0.1.pt\n"
     ]
    },
    {
     "name": "stderr",
     "output_type": "stream",
     "text": [
      "Train. Epoch 7: 100%|██████████| 209/209 [01:01<00:00,  3.42batch/s, loss=3.21e+4]\n",
      "Valid. Epoch 7: 100%|██████████| 27/27 [00:06<00:00,  4.00batch/s, loss=4.01e+3]\n"
     ]
    },
    {
     "name": "stdout",
     "output_type": "stream",
     "text": [
      "Epoch: 7 \tTraining Loss: 4.808763 \tValidation Loss: 4.791653\n",
      "Epoch 7: Upgrate of model quality: (4.81894)->(4.79165)\n",
      "SUCCESSFULLY SAVED 'best-' checkpoint to: checkpoints/scratch-model-batch-32-lr-0.1/best-scratch-model-batch-32-lr-0.1.pt\n"
     ]
    },
    {
     "name": "stderr",
     "output_type": "stream",
     "text": [
      "\r",
      "  0%|          | 0/209 [00:00<?, ?batch/s]"
     ]
    },
    {
     "name": "stdout",
     "output_type": "stream",
     "text": [
      "SUCCESSFULLY SAVED 'last-' checkpoint to: checkpoints/scratch-model-batch-32-lr-0.1/last-scratch-model-batch-32-lr-0.1.pt\n"
     ]
    },
    {
     "name": "stderr",
     "output_type": "stream",
     "text": [
      "Train. Epoch 8: 100%|██████████| 209/209 [01:02<00:00,  3.37batch/s, loss=3.18e+4]\n",
      "Valid. Epoch 8: 100%|██████████| 27/27 [00:06<00:00,  3.88batch/s, loss=3.96e+3]\n"
     ]
    },
    {
     "name": "stdout",
     "output_type": "stream",
     "text": [
      "Epoch: 8 \tTraining Loss: 4.756954 \tValidation Loss: 4.739213\n",
      "Epoch 8: Upgrate of model quality: (4.79165)->(4.73921)\n",
      "SUCCESSFULLY SAVED 'best-' checkpoint to: checkpoints/scratch-model-batch-32-lr-0.1/best-scratch-model-batch-32-lr-0.1.pt\n"
     ]
    },
    {
     "name": "stderr",
     "output_type": "stream",
     "text": [
      "\r",
      "  0%|          | 0/209 [00:00<?, ?batch/s]"
     ]
    },
    {
     "name": "stdout",
     "output_type": "stream",
     "text": [
      "SUCCESSFULLY SAVED 'last-' checkpoint to: checkpoints/scratch-model-batch-32-lr-0.1/last-scratch-model-batch-32-lr-0.1.pt\n"
     ]
    },
    {
     "name": "stderr",
     "output_type": "stream",
     "text": [
      "Train. Epoch 9: 100%|██████████| 209/209 [01:02<00:00,  3.36batch/s, loss=3.15e+4]\n",
      "Valid. Epoch 9: 100%|██████████| 27/27 [00:06<00:00,  3.95batch/s, loss=3.94e+3]\n"
     ]
    },
    {
     "name": "stdout",
     "output_type": "stream",
     "text": [
      "Epoch: 9 \tTraining Loss: 4.719983 \tValidation Loss: 4.712989\n",
      "Epoch 9: Upgrate of model quality: (4.73921)->(4.71299)\n",
      "SUCCESSFULLY SAVED 'best-' checkpoint to: checkpoints/scratch-model-batch-32-lr-0.1/best-scratch-model-batch-32-lr-0.1.pt\n"
     ]
    },
    {
     "name": "stderr",
     "output_type": "stream",
     "text": [
      "\r",
      "  0%|          | 0/209 [00:00<?, ?batch/s]"
     ]
    },
    {
     "name": "stdout",
     "output_type": "stream",
     "text": [
      "SUCCESSFULLY SAVED 'last-' checkpoint to: checkpoints/scratch-model-batch-32-lr-0.1/last-scratch-model-batch-32-lr-0.1.pt\n"
     ]
    },
    {
     "name": "stderr",
     "output_type": "stream",
     "text": [
      "Train. Epoch 10: 100%|██████████| 209/209 [01:02<00:00,  3.36batch/s, loss=3.14e+4]\n",
      "Valid. Epoch 10: 100%|██████████| 27/27 [00:06<00:00,  3.93batch/s, loss=3.92e+3]\n"
     ]
    },
    {
     "name": "stdout",
     "output_type": "stream",
     "text": [
      "Epoch: 10 \tTraining Loss: 4.699229 \tValidation Loss: 4.692731\n",
      "Epoch 10: Upgrate of model quality: (4.71299)->(4.69273)\n",
      "SUCCESSFULLY SAVED 'best-' checkpoint to: checkpoints/scratch-model-batch-32-lr-0.1/best-scratch-model-batch-32-lr-0.1.pt\n"
     ]
    },
    {
     "name": "stderr",
     "output_type": "stream",
     "text": [
      "\r",
      "  0%|          | 0/209 [00:00<?, ?batch/s]"
     ]
    },
    {
     "name": "stdout",
     "output_type": "stream",
     "text": [
      "SUCCESSFULLY SAVED 'last-' checkpoint to: checkpoints/scratch-model-batch-32-lr-0.1/last-scratch-model-batch-32-lr-0.1.pt\n"
     ]
    },
    {
     "name": "stderr",
     "output_type": "stream",
     "text": [
      "Train. Epoch 11: 100%|██████████| 209/209 [01:01<00:00,  3.37batch/s, loss=3.13e+4]\n",
      "Valid. Epoch 11: 100%|██████████| 27/27 [00:07<00:00,  3.85batch/s, loss=3.91e+3]\n"
     ]
    },
    {
     "name": "stdout",
     "output_type": "stream",
     "text": [
      "Epoch: 11 \tTraining Loss: 4.688147 \tValidation Loss: 4.680847\n",
      "Epoch 11: Upgrate of model quality: (4.69273)->(4.68085)\n",
      "SUCCESSFULLY SAVED 'best-' checkpoint to: checkpoints/scratch-model-batch-32-lr-0.1/best-scratch-model-batch-32-lr-0.1.pt\n"
     ]
    },
    {
     "name": "stderr",
     "output_type": "stream",
     "text": [
      "\r",
      "  0%|          | 0/209 [00:00<?, ?batch/s]"
     ]
    },
    {
     "name": "stdout",
     "output_type": "stream",
     "text": [
      "SUCCESSFULLY SAVED 'last-' checkpoint to: checkpoints/scratch-model-batch-32-lr-0.1/last-scratch-model-batch-32-lr-0.1.pt\n"
     ]
    },
    {
     "name": "stderr",
     "output_type": "stream",
     "text": [
      "Train. Epoch 12: 100%|██████████| 209/209 [01:02<00:00,  3.37batch/s, loss=3.12e+4]\n",
      "Valid. Epoch 12: 100%|██████████| 27/27 [00:06<00:00,  3.95batch/s, loss=3.92e+3]\n"
     ]
    },
    {
     "name": "stdout",
     "output_type": "stream",
     "text": [
      "Epoch: 12 \tTraining Loss: 4.674217 \tValidation Loss: 4.684147\n"
     ]
    },
    {
     "name": "stderr",
     "output_type": "stream",
     "text": [
      "\r",
      "  0%|          | 0/209 [00:00<?, ?batch/s]"
     ]
    },
    {
     "name": "stdout",
     "output_type": "stream",
     "text": [
      "SUCCESSFULLY SAVED 'last-' checkpoint to: checkpoints/scratch-model-batch-32-lr-0.1/last-scratch-model-batch-32-lr-0.1.pt\n"
     ]
    },
    {
     "name": "stderr",
     "output_type": "stream",
     "text": [
      "Train. Epoch 13: 100%|██████████| 209/209 [01:01<00:00,  3.37batch/s, loss=3.12e+4]\n",
      "Valid. Epoch 13: 100%|██████████| 27/27 [00:06<00:00,  3.86batch/s, loss=3.91e+3]\n"
     ]
    },
    {
     "name": "stdout",
     "output_type": "stream",
     "text": [
      "Epoch: 13 \tTraining Loss: 4.668606 \tValidation Loss: 4.671213\n",
      "Epoch 13: Upgrate of model quality: (4.68085)->(4.67121)\n",
      "SUCCESSFULLY SAVED 'best-' checkpoint to: checkpoints/scratch-model-batch-32-lr-0.1/best-scratch-model-batch-32-lr-0.1.pt\n"
     ]
    },
    {
     "name": "stderr",
     "output_type": "stream",
     "text": [
      "\r",
      "  0%|          | 0/209 [00:00<?, ?batch/s]"
     ]
    },
    {
     "name": "stdout",
     "output_type": "stream",
     "text": [
      "SUCCESSFULLY SAVED 'last-' checkpoint to: checkpoints/scratch-model-batch-32-lr-0.1/last-scratch-model-batch-32-lr-0.1.pt\n"
     ]
    },
    {
     "name": "stderr",
     "output_type": "stream",
     "text": [
      "Train. Epoch 14: 100%|██████████| 209/209 [01:01<00:00,  3.40batch/s, loss=3.11e+4]\n",
      "Valid. Epoch 14: 100%|██████████| 27/27 [00:06<00:00,  3.97batch/s, loss=3.89e+3]\n"
     ]
    },
    {
     "name": "stdout",
     "output_type": "stream",
     "text": [
      "Epoch: 14 \tTraining Loss: 4.654848 \tValidation Loss: 4.652914\n",
      "Epoch 14: Upgrate of model quality: (4.67121)->(4.65291)\n",
      "SUCCESSFULLY SAVED 'best-' checkpoint to: checkpoints/scratch-model-batch-32-lr-0.1/best-scratch-model-batch-32-lr-0.1.pt\n"
     ]
    },
    {
     "name": "stderr",
     "output_type": "stream",
     "text": [
      "\r",
      "  0%|          | 0/209 [00:00<?, ?batch/s]"
     ]
    },
    {
     "name": "stdout",
     "output_type": "stream",
     "text": [
      "SUCCESSFULLY SAVED 'last-' checkpoint to: checkpoints/scratch-model-batch-32-lr-0.1/last-scratch-model-batch-32-lr-0.1.pt\n"
     ]
    },
    {
     "name": "stderr",
     "output_type": "stream",
     "text": [
      "Train. Epoch 15: 100%|██████████| 209/209 [01:02<00:00,  3.34batch/s, loss=3.1e+4] \n",
      "Valid. Epoch 15: 100%|██████████| 27/27 [00:07<00:00,  3.85batch/s, loss=3.9e+3] \n"
     ]
    },
    {
     "name": "stdout",
     "output_type": "stream",
     "text": [
      "Epoch: 15 \tTraining Loss: 4.645538 \tValidation Loss: 4.659934\n"
     ]
    },
    {
     "name": "stderr",
     "output_type": "stream",
     "text": [
      "\r",
      "  0%|          | 0/209 [00:00<?, ?batch/s]"
     ]
    },
    {
     "name": "stdout",
     "output_type": "stream",
     "text": [
      "SUCCESSFULLY SAVED 'last-' checkpoint to: checkpoints/scratch-model-batch-32-lr-0.1/last-scratch-model-batch-32-lr-0.1.pt\n"
     ]
    },
    {
     "name": "stderr",
     "output_type": "stream",
     "text": [
      "Train. Epoch 16: 100%|██████████| 209/209 [01:01<00:00,  3.39batch/s, loss=3.1e+4] \n",
      "Valid. Epoch 16: 100%|██████████| 27/27 [00:06<00:00,  3.97batch/s, loss=3.9e+3] \n"
     ]
    },
    {
     "name": "stdout",
     "output_type": "stream",
     "text": [
      "Epoch: 16 \tTraining Loss: 4.635103 \tValidation Loss: 4.665289\n"
     ]
    },
    {
     "name": "stderr",
     "output_type": "stream",
     "text": [
      "\r",
      "  0%|          | 0/209 [00:00<?, ?batch/s]"
     ]
    },
    {
     "name": "stdout",
     "output_type": "stream",
     "text": [
      "SUCCESSFULLY SAVED 'last-' checkpoint to: checkpoints/scratch-model-batch-32-lr-0.1/last-scratch-model-batch-32-lr-0.1.pt\n"
     ]
    },
    {
     "name": "stderr",
     "output_type": "stream",
     "text": [
      "Train. Epoch 17: 100%|██████████| 209/209 [01:01<00:00,  3.41batch/s, loss=3.09e+4]\n",
      "Valid. Epoch 17: 100%|██████████| 27/27 [00:07<00:00,  3.81batch/s, loss=3.89e+3]\n"
     ]
    },
    {
     "name": "stdout",
     "output_type": "stream",
     "text": [
      "Epoch: 17 \tTraining Loss: 4.622930 \tValidation Loss: 4.649569\n",
      "Epoch 17: Upgrate of model quality: (4.65291)->(4.64957)\n",
      "SUCCESSFULLY SAVED 'best-' checkpoint to: checkpoints/scratch-model-batch-32-lr-0.1/best-scratch-model-batch-32-lr-0.1.pt\n"
     ]
    },
    {
     "name": "stderr",
     "output_type": "stream",
     "text": [
      "\r",
      "  0%|          | 0/209 [00:00<?, ?batch/s]"
     ]
    },
    {
     "name": "stdout",
     "output_type": "stream",
     "text": [
      "SUCCESSFULLY SAVED 'last-' checkpoint to: checkpoints/scratch-model-batch-32-lr-0.1/last-scratch-model-batch-32-lr-0.1.pt\n"
     ]
    },
    {
     "name": "stderr",
     "output_type": "stream",
     "text": [
      "Train. Epoch 18: 100%|██████████| 209/209 [01:01<00:00,  3.38batch/s, loss=3.08e+4]\n",
      "Valid. Epoch 18: 100%|██████████| 27/27 [00:06<00:00,  3.93batch/s, loss=3.88e+3]\n"
     ]
    },
    {
     "name": "stdout",
     "output_type": "stream",
     "text": [
      "Epoch: 18 \tTraining Loss: 4.609908 \tValidation Loss: 4.641529\n",
      "Epoch 18: Upgrate of model quality: (4.64957)->(4.64153)\n",
      "SUCCESSFULLY SAVED 'best-' checkpoint to: checkpoints/scratch-model-batch-32-lr-0.1/best-scratch-model-batch-32-lr-0.1.pt\n"
     ]
    },
    {
     "name": "stderr",
     "output_type": "stream",
     "text": [
      "\r",
      "  0%|          | 0/209 [00:00<?, ?batch/s]"
     ]
    },
    {
     "name": "stdout",
     "output_type": "stream",
     "text": [
      "SUCCESSFULLY SAVED 'last-' checkpoint to: checkpoints/scratch-model-batch-32-lr-0.1/last-scratch-model-batch-32-lr-0.1.pt\n"
     ]
    },
    {
     "name": "stderr",
     "output_type": "stream",
     "text": [
      "Train. Epoch 19: 100%|██████████| 209/209 [01:01<00:00,  3.37batch/s, loss=3.08e+4]\n",
      "Valid. Epoch 19: 100%|██████████| 27/27 [00:06<00:00,  4.00batch/s, loss=3.89e+3]\n"
     ]
    },
    {
     "name": "stdout",
     "output_type": "stream",
     "text": [
      "Epoch: 19 \tTraining Loss: 4.615368 \tValidation Loss: 4.649254\n"
     ]
    },
    {
     "name": "stderr",
     "output_type": "stream",
     "text": [
      "\r",
      "  0%|          | 0/209 [00:00<?, ?batch/s]"
     ]
    },
    {
     "name": "stdout",
     "output_type": "stream",
     "text": [
      "SUCCESSFULLY SAVED 'last-' checkpoint to: checkpoints/scratch-model-batch-32-lr-0.1/last-scratch-model-batch-32-lr-0.1.pt\n"
     ]
    },
    {
     "name": "stderr",
     "output_type": "stream",
     "text": [
      "Train. Epoch 20: 100%|██████████| 209/209 [01:01<00:00,  3.39batch/s, loss=3.08e+4]\n",
      "Valid. Epoch 20: 100%|██████████| 27/27 [00:07<00:00,  3.76batch/s, loss=3.88e+3]\n"
     ]
    },
    {
     "name": "stdout",
     "output_type": "stream",
     "text": [
      "Epoch: 20 \tTraining Loss: 4.604003 \tValidation Loss: 4.642090\n",
      "SUCCESSFULLY SAVED 'last-' checkpoint to: checkpoints/scratch-model-batch-32-lr-0.1/last-scratch-model-batch-32-lr-0.1.pt\n"
     ]
    }
   ],
   "source": [
    "# train the model\n",
    "num_epochs = 16\n",
    "model_scratch = train(num_epochs, loaders_scratch, model_scratch, optimizer_scratch, \n",
    "                      criterion_scratch, use_cuda, resume_train=True, result_dict=result_dict)\n",
    "\n",
    "# model_scratch = train(num_epochs, loaders_scratch, model_scratch, optimizer_scratch, \n",
    "#                       criterion_scratch, use_cuda, resume_train=False, result_dict=None)\n",
    "\n",
    "# load the model that got the best validation accuracy\n",
    "# model_scratch.load_state_dict(torch.load('model_scratch.pt'))"
   ]
  },
  {
   "cell_type": "markdown",
   "metadata": {},
   "source": [
    "### (IMPLEMENTATION) Test the Model\n",
    "\n",
    "Try out your model on the test dataset of dog images.  Use the code cell below to calculate and print the test loss and accuracy.  Ensure that your test accuracy is greater than 10%."
   ]
  },
  {
   "cell_type": "code",
   "execution_count": 20,
   "metadata": {},
   "outputs": [],
   "source": [
    "def test(loaders, model, criterion, use_cuda):\n",
    "\n",
    "    # monitor test loss and accuracy\n",
    "    test_loss = 0.\n",
    "    correct = 0.\n",
    "    total = 0.\n",
    "\n",
    "    model.eval()\n",
    "    \n",
    "    with tqdm(loaders['test'], unit=\"batch\") as ttepoch:\n",
    "        for data, target in ttepoch:\n",
    "            # move to GPU\n",
    "            if use_cuda:\n",
    "                data, target = data.cuda(), target.cuda()\n",
    "            # forward pass: compute predicted outputs by passing inputs to the model\n",
    "            output = model(data)\n",
    "            # calculate the loss\n",
    "            loss = criterion(output, target)\n",
    "            # update average test loss \n",
    "            test_loss += loss.item() * data.size(0)\n",
    "    #         test_loss = test_loss + ((1 / (batch_idx + 1)) * (loss.data - test_loss))\n",
    "            # convert output probabilities to predicted class\n",
    "            pred = output.data.max(1, keepdim=True)[1]\n",
    "            # compare predictions to true label\n",
    "            correct += np.sum(np.squeeze(pred.eq(target.data.view_as(pred))).cpu().numpy())\n",
    "            total += data.size(0)\n",
    "            ttepoch.set_postfix(loss=test_loss, accuracy=f\"{correct*100.0/total:.2f}%\")\n",
    "            \n",
    "    print('Test Loss: {:.6f}\\n'.format(test_loss))\n",
    "\n",
    "    print('\\nTest Accuracy: %2d%% (%2d/%2d)' % (\n",
    "        100. * correct / total, correct, total))"
   ]
  },
  {
   "cell_type": "code",
   "execution_count": 21,
   "metadata": {},
   "outputs": [
    {
     "name": "stderr",
     "output_type": "stream",
     "text": [
      "100%|██████████| 27/27 [00:06<00:00,  3.94batch/s, accuracy=3.11%, loss=3.88e+3]"
     ]
    },
    {
     "name": "stdout",
     "output_type": "stream",
     "text": [
      "Test Loss: 3880.318077\n",
      "\n",
      "\n",
      "Test Accuracy:  3% (26/836)\n"
     ]
    },
    {
     "name": "stderr",
     "output_type": "stream",
     "text": [
      "\n"
     ]
    }
   ],
   "source": [
    "# call test function    \n",
    "test(loaders_scratch, model_scratch, criterion_scratch, use_cuda)"
   ]
  },
  {
   "cell_type": "markdown",
   "metadata": {},
   "source": [
    "---\n",
    "<a id='step4'></a>\n",
    "## Step 4: Create a CNN to Classify Dog Breeds (using Transfer Learning)\n",
    "\n",
    "You will now use transfer learning to create a CNN that can identify dog breed from images.  Your CNN must attain at least 60% accuracy on the test set.\n",
    "\n",
    "### (IMPLEMENTATION) Specify Data Loaders for the Dog Dataset\n",
    "\n",
    "Use the code cell below to write three separate [data loaders](http://pytorch.org/docs/master/data.html#torch.utils.data.DataLoader) for the training, validation, and test datasets of dog images (located at `dogImages/train`, `dogImages/valid`, and `dogImages/test`, respectively). \n",
    "\n",
    "If you like, **you are welcome to use the same data loaders from the previous step**, when you created a CNN from scratch."
   ]
  },
  {
   "cell_type": "code",
   "execution_count": null,
   "metadata": {},
   "outputs": [],
   "source": [
    "## TODO: Specify data loaders\n"
   ]
  },
  {
   "cell_type": "markdown",
   "metadata": {},
   "source": [
    "### (IMPLEMENTATION) Model Architecture\n",
    "\n",
    "Use transfer learning to create a CNN to classify dog breed.  Use the code cell below, and save your initialized model as the variable `model_transfer`."
   ]
  },
  {
   "cell_type": "code",
   "execution_count": null,
   "metadata": {},
   "outputs": [],
   "source": [
    "import torchvision.models as models\n",
    "import torch.nn as nn\n",
    "\n",
    "## TODO: Specify model architecture \n",
    "\n",
    "\n",
    "if use_cuda:\n",
    "    model_transfer = model_transfer.cuda()"
   ]
  },
  {
   "cell_type": "markdown",
   "metadata": {},
   "source": [
    "__Question 5:__ Outline the steps you took to get to your final CNN architecture and your reasoning at each step.  Describe why you think the architecture is suitable for the current problem."
   ]
  },
  {
   "cell_type": "markdown",
   "metadata": {},
   "source": [
    "__Answer:__ \n"
   ]
  },
  {
   "cell_type": "markdown",
   "metadata": {},
   "source": [
    "### (IMPLEMENTATION) Specify Loss Function and Optimizer\n",
    "\n",
    "Use the next code cell to specify a [loss function](http://pytorch.org/docs/master/nn.html#loss-functions) and [optimizer](http://pytorch.org/docs/master/optim.html).  Save the chosen loss function as `criterion_transfer`, and the optimizer as `optimizer_transfer` below."
   ]
  },
  {
   "cell_type": "code",
   "execution_count": null,
   "metadata": {},
   "outputs": [],
   "source": [
    "criterion_transfer = None\n",
    "optimizer_transfer = None"
   ]
  },
  {
   "cell_type": "markdown",
   "metadata": {},
   "source": [
    "### (IMPLEMENTATION) Train and Validate the Model\n",
    "\n",
    "Train and validate your model in the code cell below.  [Save the final model parameters](http://pytorch.org/docs/master/notes/serialization.html) at filepath `'model_transfer.pt'`."
   ]
  },
  {
   "cell_type": "code",
   "execution_count": null,
   "metadata": {},
   "outputs": [],
   "source": [
    "# train the model\n",
    "model_transfer = # train(n_epochs, loaders_transfer, model_transfer, optimizer_transfer, criterion_transfer, use_cuda, 'model_transfer.pt')\n",
    "\n",
    "# load the model that got the best validation accuracy (uncomment the line below)\n",
    "#model_transfer.load_state_dict(torch.load('model_transfer.pt'))"
   ]
  },
  {
   "cell_type": "markdown",
   "metadata": {},
   "source": [
    "### (IMPLEMENTATION) Test the Model\n",
    "\n",
    "Try out your model on the test dataset of dog images. Use the code cell below to calculate and print the test loss and accuracy.  Ensure that your test accuracy is greater than 60%."
   ]
  },
  {
   "cell_type": "code",
   "execution_count": null,
   "metadata": {},
   "outputs": [],
   "source": [
    "test(loaders_transfer, model_transfer, criterion_transfer, use_cuda)"
   ]
  },
  {
   "cell_type": "markdown",
   "metadata": {},
   "source": [
    "### (IMPLEMENTATION) Predict Dog Breed with the Model\n",
    "\n",
    "Write a function that takes an image path as input and returns the dog breed (`Affenpinscher`, `Afghan hound`, etc) that is predicted by your model.  "
   ]
  },
  {
   "cell_type": "code",
   "execution_count": null,
   "metadata": {},
   "outputs": [],
   "source": [
    "### TODO: Write a function that takes a path to an image as input\n",
    "### and returns the dog breed that is predicted by the model.\n",
    "\n",
    "# list of class names by index, i.e. a name can be accessed like class_names[0]\n",
    "class_names = [item[4:].replace(\"_\", \" \") for item in data_transfer['train'].classes]\n",
    "\n",
    "def predict_breed_transfer(img_path):\n",
    "    # load the image and return the predicted breed\n",
    "    return None"
   ]
  },
  {
   "cell_type": "markdown",
   "metadata": {},
   "source": [
    "---\n",
    "<a id='step5'></a>\n",
    "## Step 5: Write your Algorithm\n",
    "\n",
    "Write an algorithm that accepts a file path to an image and first determines whether the image contains a human, dog, or neither.  Then,\n",
    "- if a __dog__ is detected in the image, return the predicted breed.\n",
    "- if a __human__ is detected in the image, return the resembling dog breed.\n",
    "- if __neither__ is detected in the image, provide output that indicates an error.\n",
    "\n",
    "You are welcome to write your own functions for detecting humans and dogs in images, but feel free to use the `face_detector` and `human_detector` functions developed above.  You are __required__ to use your CNN from Step 4 to predict dog breed.  \n",
    "\n",
    "Some sample output for our algorithm is provided below, but feel free to design your own user experience!\n",
    "\n",
    "![Sample Human Output](images/sample_human_output.png)\n",
    "\n",
    "\n",
    "### (IMPLEMENTATION) Write your Algorithm"
   ]
  },
  {
   "cell_type": "code",
   "execution_count": null,
   "metadata": {},
   "outputs": [],
   "source": [
    "### TODO: Write your algorithm.\n",
    "### Feel free to use as many code cells as needed.\n",
    "\n",
    "def run_app(img_path):\n",
    "    ## handle cases for a human face, dog, and neither\n",
    "    \n"
   ]
  },
  {
   "cell_type": "markdown",
   "metadata": {},
   "source": [
    "---\n",
    "<a id='step6'></a>\n",
    "## Step 6: Test Your Algorithm\n",
    "\n",
    "In this section, you will take your new algorithm for a spin!  What kind of dog does the algorithm think that _you_ look like?  If you have a dog, does it predict your dog's breed accurately?  If you have a cat, does it mistakenly think that your cat is a dog?\n",
    "\n",
    "### (IMPLEMENTATION) Test Your Algorithm on Sample Images!\n",
    "\n",
    "Test your algorithm at least six images on your computer.  Feel free to use any images you like.  Use at least two human and two dog images.  \n",
    "\n",
    "__Question 6:__ Is the output better than you expected :) ?  Or worse :( ?  Provide at least three possible points of improvement for your algorithm."
   ]
  },
  {
   "cell_type": "markdown",
   "metadata": {},
   "source": [
    "__Answer:__ (Three possible points for improvement)"
   ]
  },
  {
   "cell_type": "code",
   "execution_count": null,
   "metadata": {},
   "outputs": [],
   "source": [
    "## TODO: Execute your algorithm from Step 6 on\n",
    "## at least 6 images on your computer.\n",
    "## Feel free to use as many code cells as needed.\n",
    "\n",
    "## suggested code, below\n",
    "for file in np.hstack((human_files[:3], dog_files[:3])):\n",
    "    run_app(file)"
   ]
  }
 ],
 "metadata": {
  "anaconda-cloud": {},
  "kernelspec": {
   "display_name": "Python 3",
   "language": "python",
   "name": "python3"
  },
  "language_info": {
   "codemirror_mode": {
    "name": "ipython",
    "version": 3
   },
   "file_extension": ".py",
   "mimetype": "text/x-python",
   "name": "python",
   "nbconvert_exporter": "python",
   "pygments_lexer": "ipython3",
   "version": "3.7.0"
  }
 },
 "nbformat": 4,
 "nbformat_minor": 1
}
